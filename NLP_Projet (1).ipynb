{
  "cells": [
    {
      "cell_type": "code",
      "execution_count": 1,
      "metadata": {
        "colab": {
          "base_uri": "https://localhost:8080/"
        },
        "id": "4zaMOMuWAjOR",
        "outputId": "70d4b138-e911-4c51-b272-57d0728c50f6"
      },
      "outputs": [
        {
          "output_type": "stream",
          "name": "stderr",
          "text": [
            "[nltk_data] Downloading package stopwords to /root/nltk_data...\n",
            "[nltk_data]   Unzipping corpora/stopwords.zip.\n",
            "[nltk_data] Downloading package punkt to /root/nltk_data...\n",
            "[nltk_data]   Unzipping tokenizers/punkt.zip.\n",
            "[nltk_data] Downloading package wordnet to /root/nltk_data...\n"
          ]
        }
      ],
      "source": [
        "#importation de bibliothèques\n",
        "from sklearn.datasets import fetch_20newsgroups\n",
        "import pandas as pd\n",
        "import numpy as np\n",
        "import matplotlib.pyplot as plt\n",
        "from sklearn.feature_extraction.text import CountVectorizer\n",
        "from sklearn.feature_extraction.text import TfidfTransformer\n",
        "from sklearn.naive_bayes import MultinomialNB\n",
        "import nltk\n",
        "nltk.download('stopwords')\n",
        "nltk.download('punkt')    # Pour la tokenisation des mots\n",
        "nltk.download('punkt_tab')\n",
        "nltk.download('wordnet')   # Pour la lemmatisation\n",
        "import spacy\n",
        "import gensim\n",
        "import re\n",
        "from nltk.tokenize import word_tokenize\n",
        "from nltk.corpus import stopwords\n",
        "from nltk.stem import WordNetLemmatizer\n",
        "import nltk"
      ]
    },
    {
      "cell_type": "markdown",
      "metadata": {
        "id": "hBDLF7IBaVae"
      },
      "source": [
        "1. Exploration des données :"
      ]
    },
    {
      "cell_type": "code",
      "execution_count": 3,
      "metadata": {
        "colab": {
          "base_uri": "https://localhost:8080/",
          "height": 206
        },
        "id": "DeZgJzhdAqKC",
        "outputId": "a41ccbc1-e6f4-430b-d6cb-e2cf82e2c92c"
      },
      "outputs": [
        {
          "output_type": "execute_result",
          "data": {
            "text/plain": [
              "   id  label                                              tweet\n",
              "0   1      0   @user when a father is dysfunctional and is s...\n",
              "1   2      0  @user @user thanks for #lyft credit i can't us...\n",
              "2   3      0                                bihday your majesty\n",
              "3   4      0  #model   i love u take with u all the time in ...\n",
              "4   5      0             factsguide: society now    #motivation"
            ],
            "text/html": [
              "\n",
              "  <div id=\"df-58a669e8-b293-40aa-85c9-e45f5cb69bb3\" class=\"colab-df-container\">\n",
              "    <div>\n",
              "<style scoped>\n",
              "    .dataframe tbody tr th:only-of-type {\n",
              "        vertical-align: middle;\n",
              "    }\n",
              "\n",
              "    .dataframe tbody tr th {\n",
              "        vertical-align: top;\n",
              "    }\n",
              "\n",
              "    .dataframe thead th {\n",
              "        text-align: right;\n",
              "    }\n",
              "</style>\n",
              "<table border=\"1\" class=\"dataframe\">\n",
              "  <thead>\n",
              "    <tr style=\"text-align: right;\">\n",
              "      <th></th>\n",
              "      <th>id</th>\n",
              "      <th>label</th>\n",
              "      <th>tweet</th>\n",
              "    </tr>\n",
              "  </thead>\n",
              "  <tbody>\n",
              "    <tr>\n",
              "      <th>0</th>\n",
              "      <td>1</td>\n",
              "      <td>0</td>\n",
              "      <td>@user when a father is dysfunctional and is s...</td>\n",
              "    </tr>\n",
              "    <tr>\n",
              "      <th>1</th>\n",
              "      <td>2</td>\n",
              "      <td>0</td>\n",
              "      <td>@user @user thanks for #lyft credit i can't us...</td>\n",
              "    </tr>\n",
              "    <tr>\n",
              "      <th>2</th>\n",
              "      <td>3</td>\n",
              "      <td>0</td>\n",
              "      <td>bihday your majesty</td>\n",
              "    </tr>\n",
              "    <tr>\n",
              "      <th>3</th>\n",
              "      <td>4</td>\n",
              "      <td>0</td>\n",
              "      <td>#model   i love u take with u all the time in ...</td>\n",
              "    </tr>\n",
              "    <tr>\n",
              "      <th>4</th>\n",
              "      <td>5</td>\n",
              "      <td>0</td>\n",
              "      <td>factsguide: society now    #motivation</td>\n",
              "    </tr>\n",
              "  </tbody>\n",
              "</table>\n",
              "</div>\n",
              "    <div class=\"colab-df-buttons\">\n",
              "\n",
              "  <div class=\"colab-df-container\">\n",
              "    <button class=\"colab-df-convert\" onclick=\"convertToInteractive('df-58a669e8-b293-40aa-85c9-e45f5cb69bb3')\"\n",
              "            title=\"Convert this dataframe to an interactive table.\"\n",
              "            style=\"display:none;\">\n",
              "\n",
              "  <svg xmlns=\"http://www.w3.org/2000/svg\" height=\"24px\" viewBox=\"0 -960 960 960\">\n",
              "    <path d=\"M120-120v-720h720v720H120Zm60-500h600v-160H180v160Zm220 220h160v-160H400v160Zm0 220h160v-160H400v160ZM180-400h160v-160H180v160Zm440 0h160v-160H620v160ZM180-180h160v-160H180v160Zm440 0h160v-160H620v160Z\"/>\n",
              "  </svg>\n",
              "    </button>\n",
              "\n",
              "  <style>\n",
              "    .colab-df-container {\n",
              "      display:flex;\n",
              "      gap: 12px;\n",
              "    }\n",
              "\n",
              "    .colab-df-convert {\n",
              "      background-color: #E8F0FE;\n",
              "      border: none;\n",
              "      border-radius: 50%;\n",
              "      cursor: pointer;\n",
              "      display: none;\n",
              "      fill: #1967D2;\n",
              "      height: 32px;\n",
              "      padding: 0 0 0 0;\n",
              "      width: 32px;\n",
              "    }\n",
              "\n",
              "    .colab-df-convert:hover {\n",
              "      background-color: #E2EBFA;\n",
              "      box-shadow: 0px 1px 2px rgba(60, 64, 67, 0.3), 0px 1px 3px 1px rgba(60, 64, 67, 0.15);\n",
              "      fill: #174EA6;\n",
              "    }\n",
              "\n",
              "    .colab-df-buttons div {\n",
              "      margin-bottom: 4px;\n",
              "    }\n",
              "\n",
              "    [theme=dark] .colab-df-convert {\n",
              "      background-color: #3B4455;\n",
              "      fill: #D2E3FC;\n",
              "    }\n",
              "\n",
              "    [theme=dark] .colab-df-convert:hover {\n",
              "      background-color: #434B5C;\n",
              "      box-shadow: 0px 1px 3px 1px rgba(0, 0, 0, 0.15);\n",
              "      filter: drop-shadow(0px 1px 2px rgba(0, 0, 0, 0.3));\n",
              "      fill: #FFFFFF;\n",
              "    }\n",
              "  </style>\n",
              "\n",
              "    <script>\n",
              "      const buttonEl =\n",
              "        document.querySelector('#df-58a669e8-b293-40aa-85c9-e45f5cb69bb3 button.colab-df-convert');\n",
              "      buttonEl.style.display =\n",
              "        google.colab.kernel.accessAllowed ? 'block' : 'none';\n",
              "\n",
              "      async function convertToInteractive(key) {\n",
              "        const element = document.querySelector('#df-58a669e8-b293-40aa-85c9-e45f5cb69bb3');\n",
              "        const dataTable =\n",
              "          await google.colab.kernel.invokeFunction('convertToInteractive',\n",
              "                                                    [key], {});\n",
              "        if (!dataTable) return;\n",
              "\n",
              "        const docLinkHtml = 'Like what you see? Visit the ' +\n",
              "          '<a target=\"_blank\" href=https://colab.research.google.com/notebooks/data_table.ipynb>data table notebook</a>'\n",
              "          + ' to learn more about interactive tables.';\n",
              "        element.innerHTML = '';\n",
              "        dataTable['output_type'] = 'display_data';\n",
              "        await google.colab.output.renderOutput(dataTable, element);\n",
              "        const docLink = document.createElement('div');\n",
              "        docLink.innerHTML = docLinkHtml;\n",
              "        element.appendChild(docLink);\n",
              "      }\n",
              "    </script>\n",
              "  </div>\n",
              "\n",
              "\n",
              "<div id=\"df-9706a48b-845f-449c-adaa-6c7b2f5b129e\">\n",
              "  <button class=\"colab-df-quickchart\" onclick=\"quickchart('df-9706a48b-845f-449c-adaa-6c7b2f5b129e')\"\n",
              "            title=\"Suggest charts\"\n",
              "            style=\"display:none;\">\n",
              "\n",
              "<svg xmlns=\"http://www.w3.org/2000/svg\" height=\"24px\"viewBox=\"0 0 24 24\"\n",
              "     width=\"24px\">\n",
              "    <g>\n",
              "        <path d=\"M19 3H5c-1.1 0-2 .9-2 2v14c0 1.1.9 2 2 2h14c1.1 0 2-.9 2-2V5c0-1.1-.9-2-2-2zM9 17H7v-7h2v7zm4 0h-2V7h2v10zm4 0h-2v-4h2v4z\"/>\n",
              "    </g>\n",
              "</svg>\n",
              "  </button>\n",
              "\n",
              "<style>\n",
              "  .colab-df-quickchart {\n",
              "      --bg-color: #E8F0FE;\n",
              "      --fill-color: #1967D2;\n",
              "      --hover-bg-color: #E2EBFA;\n",
              "      --hover-fill-color: #174EA6;\n",
              "      --disabled-fill-color: #AAA;\n",
              "      --disabled-bg-color: #DDD;\n",
              "  }\n",
              "\n",
              "  [theme=dark] .colab-df-quickchart {\n",
              "      --bg-color: #3B4455;\n",
              "      --fill-color: #D2E3FC;\n",
              "      --hover-bg-color: #434B5C;\n",
              "      --hover-fill-color: #FFFFFF;\n",
              "      --disabled-bg-color: #3B4455;\n",
              "      --disabled-fill-color: #666;\n",
              "  }\n",
              "\n",
              "  .colab-df-quickchart {\n",
              "    background-color: var(--bg-color);\n",
              "    border: none;\n",
              "    border-radius: 50%;\n",
              "    cursor: pointer;\n",
              "    display: none;\n",
              "    fill: var(--fill-color);\n",
              "    height: 32px;\n",
              "    padding: 0;\n",
              "    width: 32px;\n",
              "  }\n",
              "\n",
              "  .colab-df-quickchart:hover {\n",
              "    background-color: var(--hover-bg-color);\n",
              "    box-shadow: 0 1px 2px rgba(60, 64, 67, 0.3), 0 1px 3px 1px rgba(60, 64, 67, 0.15);\n",
              "    fill: var(--button-hover-fill-color);\n",
              "  }\n",
              "\n",
              "  .colab-df-quickchart-complete:disabled,\n",
              "  .colab-df-quickchart-complete:disabled:hover {\n",
              "    background-color: var(--disabled-bg-color);\n",
              "    fill: var(--disabled-fill-color);\n",
              "    box-shadow: none;\n",
              "  }\n",
              "\n",
              "  .colab-df-spinner {\n",
              "    border: 2px solid var(--fill-color);\n",
              "    border-color: transparent;\n",
              "    border-bottom-color: var(--fill-color);\n",
              "    animation:\n",
              "      spin 1s steps(1) infinite;\n",
              "  }\n",
              "\n",
              "  @keyframes spin {\n",
              "    0% {\n",
              "      border-color: transparent;\n",
              "      border-bottom-color: var(--fill-color);\n",
              "      border-left-color: var(--fill-color);\n",
              "    }\n",
              "    20% {\n",
              "      border-color: transparent;\n",
              "      border-left-color: var(--fill-color);\n",
              "      border-top-color: var(--fill-color);\n",
              "    }\n",
              "    30% {\n",
              "      border-color: transparent;\n",
              "      border-left-color: var(--fill-color);\n",
              "      border-top-color: var(--fill-color);\n",
              "      border-right-color: var(--fill-color);\n",
              "    }\n",
              "    40% {\n",
              "      border-color: transparent;\n",
              "      border-right-color: var(--fill-color);\n",
              "      border-top-color: var(--fill-color);\n",
              "    }\n",
              "    60% {\n",
              "      border-color: transparent;\n",
              "      border-right-color: var(--fill-color);\n",
              "    }\n",
              "    80% {\n",
              "      border-color: transparent;\n",
              "      border-right-color: var(--fill-color);\n",
              "      border-bottom-color: var(--fill-color);\n",
              "    }\n",
              "    90% {\n",
              "      border-color: transparent;\n",
              "      border-bottom-color: var(--fill-color);\n",
              "    }\n",
              "  }\n",
              "</style>\n",
              "\n",
              "  <script>\n",
              "    async function quickchart(key) {\n",
              "      const quickchartButtonEl =\n",
              "        document.querySelector('#' + key + ' button');\n",
              "      quickchartButtonEl.disabled = true;  // To prevent multiple clicks.\n",
              "      quickchartButtonEl.classList.add('colab-df-spinner');\n",
              "      try {\n",
              "        const charts = await google.colab.kernel.invokeFunction(\n",
              "            'suggestCharts', [key], {});\n",
              "      } catch (error) {\n",
              "        console.error('Error during call to suggestCharts:', error);\n",
              "      }\n",
              "      quickchartButtonEl.classList.remove('colab-df-spinner');\n",
              "      quickchartButtonEl.classList.add('colab-df-quickchart-complete');\n",
              "    }\n",
              "    (() => {\n",
              "      let quickchartButtonEl =\n",
              "        document.querySelector('#df-9706a48b-845f-449c-adaa-6c7b2f5b129e button');\n",
              "      quickchartButtonEl.style.display =\n",
              "        google.colab.kernel.accessAllowed ? 'block' : 'none';\n",
              "    })();\n",
              "  </script>\n",
              "</div>\n",
              "\n",
              "    </div>\n",
              "  </div>\n"
            ],
            "application/vnd.google.colaboratory.intrinsic+json": {
              "type": "dataframe",
              "variable_name": "df",
              "summary": "{\n  \"name\": \"df\",\n  \"rows\": 31962,\n  \"fields\": [\n    {\n      \"column\": \"id\",\n      \"properties\": {\n        \"dtype\": \"number\",\n        \"std\": 9226,\n        \"min\": 1,\n        \"max\": 31962,\n        \"num_unique_values\": 31962,\n        \"samples\": [\n          12228,\n          14710,\n          19320\n        ],\n        \"semantic_type\": \"\",\n        \"description\": \"\"\n      }\n    },\n    {\n      \"column\": \"label\",\n      \"properties\": {\n        \"dtype\": \"number\",\n        \"std\": 0,\n        \"min\": 0,\n        \"max\": 1,\n        \"num_unique_values\": 2,\n        \"samples\": [\n          1,\n          0\n        ],\n        \"semantic_type\": \"\",\n        \"description\": \"\"\n      }\n    },\n    {\n      \"column\": \"tweet\",\n      \"properties\": {\n        \"dtype\": \"string\",\n        \"num_unique_values\": 29530,\n        \"samples\": [\n          \"\\\"even if you like #windows 10, you should be   at #microsoft\\\" #computer #spam #spyware #unreliable #os #ms #win \",\n          \"the countdown begins! 10 hours till the musical! \\u00f0\\u009f\\u0098\\u008a\\u00f0\\u009f\\u0098\\u0084\\u00f0\\u009f\\u0098\\u0085 #itsthefinalcountdown #youngcarers #rctcbc #rctcouncil #rct #carersweek   \\u00f0\\u009f\\u0098\\u0081\"\n        ],\n        \"semantic_type\": \"\",\n        \"description\": \"\"\n      }\n    }\n  ]\n}"
            }
          },
          "metadata": {},
          "execution_count": 3
        }
      ],
      "source": [
        "#Chargement des données\n",
        "df  = pd.read_csv('/content/train.csv.zip')\n",
        "df.head()"
      ]
    },
    {
      "cell_type": "code",
      "execution_count": 4,
      "metadata": {
        "colab": {
          "base_uri": "https://localhost:8080/"
        },
        "id": "Xt0UkIdNBIiG",
        "outputId": "50b78ce4-6846-45c1-ae37-c29dc8543470"
      },
      "outputs": [
        {
          "output_type": "execute_result",
          "data": {
            "text/plain": [
              "Index(['id', 'label', 'tweet'], dtype='object')"
            ]
          },
          "metadata": {},
          "execution_count": 4
        }
      ],
      "source": [
        "#Afficher les colonnes du df\n",
        "df.columns"
      ]
    },
    {
      "cell_type": "code",
      "execution_count": 5,
      "metadata": {
        "colab": {
          "base_uri": "https://localhost:8080/"
        },
        "id": "5mmJbrAMBm0m",
        "outputId": "8c4d5214-c150-46eb-e67e-8c158db97cc8"
      },
      "outputs": [
        {
          "output_type": "stream",
          "name": "stdout",
          "text": [
            "<class 'pandas.core.frame.DataFrame'>\n",
            "RangeIndex: 31962 entries, 0 to 31961\n",
            "Data columns (total 3 columns):\n",
            " #   Column  Non-Null Count  Dtype \n",
            "---  ------  --------------  ----- \n",
            " 0   id      31962 non-null  int64 \n",
            " 1   label   31962 non-null  int64 \n",
            " 2   tweet   31962 non-null  object\n",
            "dtypes: int64(2), object(1)\n",
            "memory usage: 749.2+ KB\n"
          ]
        }
      ],
      "source": [
        "#Obtenir des information sur le df\n",
        "df.info()"
      ]
    },
    {
      "cell_type": "markdown",
      "source": [
        "**Analyser** **la distribution des Classes**"
      ],
      "metadata": {
        "id": "MMweoKzeFcYQ"
      }
    },
    {
      "cell_type": "code",
      "execution_count": 6,
      "metadata": {
        "colab": {
          "base_uri": "https://localhost:8080/",
          "height": 541
        },
        "id": "o856paa7CM5k",
        "outputId": "42fe6e24-3208-498c-d8f8-8fde848e4958"
      },
      "outputs": [
        {
          "output_type": "stream",
          "name": "stdout",
          "text": [
            "label\n",
            "0    29720\n",
            "1     2242\n",
            "Name: count, dtype: int64\n"
          ]
        },
        {
          "output_type": "display_data",
          "data": {
            "text/plain": [
              "<Figure size 640x480 with 1 Axes>"
            ],
            "image/png": "[encoded data removed]"
          },
          "metadata": {}
        }
      ],
      "source": [
        "# Compter les occurrences de chaque classe\n",
        "class_counts = df['label'].value_counts() #0 pour non haineux et 1 pour discours haineux.\n",
        "print(class_counts)\n",
        "\n",
        "# Visualiser la distribution\n",
        "class_counts.plot(kind='bar', color=['blue', 'red'])\n",
        "plt.title(\"Distribution des Classes\")\n",
        "plt.xlabel(\"Classes\")\n",
        "plt.ylabel(\"Nombre d'apparition des classes dans la colonne label\")\n",
        "plt.xticks(rotation=0)\n",
        "plt.show()\n"
      ]
    },
    {
      "cell_type": "markdown",
      "source": [
        "**Analyser les caractéristiques textuelles du dataset**"
      ],
      "metadata": {
        "id": "vBkcjFO1FnkG"
      }
    },
    {
      "cell_type": "code",
      "execution_count": 7,
      "metadata": {
        "colab": {
          "base_uri": "https://localhost:8080/",
          "height": 495
        },
        "id": "7cvlqwhAgVCa",
        "outputId": "e80f0278-16ca-4bde-d21b-c376e894a671"
      },
      "outputs": [
        {
          "output_type": "display_data",
          "data": {
            "text/plain": [
              "<Figure size 1000x500 with 2 Axes>"
            ],
            "image/png": "[encoded data removed]"
          },
          "metadata": {}
        }
      ],
      "source": [
        "# Création des histogrammes pour chaque classe avec des couleurs spécifiques\n",
        "classes = df['label'].unique()  # Identifier les classes uniques ([0, 1])\n",
        "colors = ['blue', 'red']  # Définir les couleurs\n",
        "\n",
        "# Calculer la longueur moyenne des tweets et l'ajouter au df\n",
        "df['tweet_length_char'] = df['tweet'].apply(len)\n",
        "\n",
        "# Créer un sous-graphe par classe\n",
        "fig, axes = plt.subplots(1, len(classes), figsize=(10, 5), sharey=True)  # Un graphique par classe\n",
        "\n",
        "for i, cls in enumerate(classes):\n",
        "  # Filtrer les tweets par classe\n",
        "    subset = df[df['label'] == cls]\n",
        "    axes[i].hist(subset['tweet_length_char'], bins=30, color=colors[i])  # Histogramme pour la classe\n",
        "    axes[i].set_title(f\"Classe {cls}\")  # Ajouter un titre à chaque sous-graphe\n",
        "\n",
        "# Titre général et affichage\n",
        "plt.suptitle(\"Distribution des Longueurs de Tweets par Classe\")\n",
        "plt.show()"
      ]
    },
    {
      "cell_type": "code",
      "execution_count": 8,
      "metadata": {
        "colab": {
          "base_uri": "https://localhost:8080/"
        },
        "id": "WNrtZm_7YItJ",
        "outputId": "2af77b8e-fb7a-4b08-a0b4-c746dc5dbfd8"
      },
      "outputs": [
        {
          "output_type": "stream",
          "name": "stdout",
          "text": [
            "        word  frequency\n",
            "18      user      17577\n",
            "10      love       2749\n",
            "2        day       2311\n",
            "0        amp       1776\n",
            "6      happy       1686\n",
            "7       just       1365\n",
            "16      time       1136\n",
            "8       life       1131\n",
            "17     today       1079\n",
            "9       like       1050\n",
            "11       new        997\n",
            "15  thankful        946\n",
            "13  positive        931\n",
            "12    people        874\n",
            "5       good        867\n",
            "1     bihday        845\n",
            "14     smile        712\n",
            "3        don        665\n",
            "19      want        649\n",
            "4     father        635\n"
          ]
        }
      ],
      "source": [
        "# Calculer la fréquence des mots\n",
        "from sklearn.feature_extraction.text import CountVectorizer\n",
        "\n",
        "# Vectorisation pour trouver les mots les plus fréquents\n",
        "vectorizer = CountVectorizer(stop_words='english', max_features=20)\n",
        "X = vectorizer.fit_transform(df['tweet'])\n",
        "\n",
        "# Afficher les mots les plus fréquents\n",
        "word_freq = pd.DataFrame({\n",
        "    'word': vectorizer.get_feature_names_out(),\n",
        "    'frequency': X.toarray().sum(axis=0)\n",
        "}).sort_values(by='frequency', ascending=False)\n",
        "print(word_freq)\n"
      ]
    },
    {
      "cell_type": "code",
      "execution_count": 9,
      "metadata": {
        "colab": {
          "base_uri": "https://localhost:8080/"
        },
        "id": "GX6L8EkbYhfq",
        "outputId": "0dde977e-751b-4de0-bab4-6cc2a28bfe9d"
      },
      "outputs": [
        {
          "output_type": "stream",
          "name": "stdout",
          "text": [
            "hashtags\n",
            "love           1542\n",
            "positive        874\n",
            "healthy         571\n",
            "smile           548\n",
            "thankful        491\n",
            "fun             434\n",
            "life            406\n",
            "summer          367\n",
            "model           365\n",
            "affirmation     363\n",
            "Name: count, dtype: int64\n"
          ]
        }
      ],
      "source": [
        "#Analyser les hashtags les plus utilisés\n",
        "\n",
        "# Extraire les hashtags\n",
        "df['hashtags'] = df['tweet'].apply(lambda x: re.findall(r\"#(\\w+)\", x))\n",
        "\n",
        "# Décompte des hashtags\n",
        "hashtags = df['hashtags'].explode().value_counts()\n",
        "print(hashtags.head(10))\n"
      ]
    },
    {
      "cell_type": "markdown",
      "metadata": {
        "id": "i6QUOewyaeBq"
      },
      "source": [
        "2. Prétraitement des données :\n"
      ]
    },
    {
      "cell_type": "markdown",
      "source": [
        "**Nettoyage des tweets**"
      ],
      "metadata": {
        "id": "3eJJWf0pHEHN"
      }
    },
    {
      "cell_type": "code",
      "execution_count": 10,
      "metadata": {
        "id": "el62c8C3a8Ez"
      },
      "outputs": [],
      "source": [
        "#Définir une fonction appelée \"clean_tweet\"\n",
        "\n",
        "def clean_tweet(tweet):\n",
        "\n",
        "    # Supprimer les URLs\n",
        "    tweet = re.sub(r\"http\\S+|www\\S+|https\\S+\", '', tweet, flags=re.MULTILINE)\n",
        "\n",
        "    # Supprimer les mentions (@)\n",
        "    tweet = re.sub(r\"@\\w+\", '', tweet)\n",
        "\n",
        "    # Supprimer les caractères spéciaux et la ponctuation\n",
        "    tweet = re.sub(r\"[^a-zA-Z0-9\\s]\", '', tweet)\n",
        "\n",
        "    # Convertir en minuscules\n",
        "    tweet = tweet.lower()\n",
        "\n",
        "    # Supprimer les espaces blancs supplémentaires\n",
        "    tweet = tweet.strip()\n",
        "    return tweet\n",
        "\n",
        "# Appliquer la fonction de nettoyage à la colonne 'tweet'\n",
        "df['cleaned_tweet'] = df['tweet'].apply(clean_tweet)"
      ]
    },
    {
      "cell_type": "markdown",
      "source": [
        "**Gérer la tokenisation des tweets**\n",
        "\n",
        "\n"
      ],
      "metadata": {
        "id": "O6eLNMEWHmoL"
      }
    },
    {
      "cell_type": "code",
      "execution_count": 11,
      "metadata": {
        "colab": {
          "base_uri": "https://localhost:8080/"
        },
        "id": "wADu8PNrhdi6",
        "outputId": "fe46e053-b6bc-4bf4-b32d-2557a3cacac2"
      },
      "outputs": [
        {
          "output_type": "stream",
          "name": "stderr",
          "text": [
            "[nltk_data] Downloading package punkt_tab to /root/nltk_data...\n",
            "[nltk_data]   Unzipping tokenizers/punkt_tab.zip.\n"
          ]
        },
        {
          "output_type": "stream",
          "name": "stdout",
          "text": [
            "Tweet 1 tokens: ['@', 'user', 'when', 'a', 'father', 'is', 'dysfunctional', 'and', 'is', 'so', 'selfish', 'he', 'drags', 'his', 'kids', 'into', 'his', 'dysfunction', '.', '#', 'run']\n",
            "Tweet 2 tokens: ['@', 'user', '@', 'user', 'thanks', 'for', '#', 'lyft', 'credit', 'i', 'ca', \"n't\", 'use', 'cause', 'they', 'do', \"n't\", 'offer', 'wheelchair', 'vans', 'in', 'pdx', '.', '#', 'disapointed', '#', 'getthanked']\n",
            "Tweet 3 tokens: ['bihday', 'your', 'majesty']\n",
            "Tweet 4 tokens: ['#', 'model', 'i', 'love', 'u', 'take', 'with', 'u', 'all', 'the', 'time', 'in', 'urð\\x9f\\x93±', '!', '!', '!', 'ð\\x9f\\x98\\x99ð\\x9f\\x98\\x8eð\\x9f\\x91\\x84ð\\x9f\\x91', 'ð\\x9f\\x92¦ð\\x9f\\x92¦ð\\x9f\\x92¦']\n",
            "Tweet 5 tokens: ['factsguide', ':', 'society', 'now', '#', 'motivation']\n"
          ]
        }
      ],
      "source": [
        "# Tokenisation des tweets\n",
        "def tokenized_tweets(tweet):\n",
        "    tokens = nltk.word_tokenize(tweet)\n",
        "    return tokens\n",
        "\n",
        "#Appliquer la fonction\n",
        "df['tokenized_tweets'] = df['tweet'].apply(tokenized_tweets)\n",
        "\n",
        "# Afficher les tokens des premiers tweets\n",
        "for i in range(5):\n",
        "    # Accéder à la colonne 'tokenized_tweets' au lieu de 'tokens'\n",
        "    print(f\"Tweet {i+1} tokens : {df['tokenized_tweets'][i]}\")"
      ]
    },
    {
      "cell_type": "code",
      "execution_count": 13,
      "metadata": {
        "colab": {
          "base_uri": "https://localhost:8080/"
        },
        "id": "JozvOHUbcvTA",
        "outputId": "612eb27e-fe43-45ac-f8d1-82918180bb93"
      },
      "outputs": [
        {
          "output_type": "stream",
          "name": "stderr",
          "text": [
            "[nltk_data] Downloading package wordnet to /root/nltk_data...\n",
            "[nltk_data]   Package wordnet is already up-to-date!\n",
            "[nltk_data] Downloading package omw-1.4 to /root/nltk_data...\n"
          ]
        }
      ],
      "source": [
        "# Téléchargement des ressources nécessaires\n",
        "nltk.download('wordnet')\n",
        "nltk.download('omw-1.4')\n",
        "\n",
        "# Initialisation des stopwords (mots vides) et du lemmatiseur\n",
        "stop_words = set(stopwords.words('english'))  # Création d'un ensemble de mots vides en anglais\n",
        "lemmatizer = WordNetLemmatizer()  # Création d'un objet lemmatiseur basé sur WordNet\n",
        "\n",
        "# Fonction de prétraitement des tweets\n",
        "def preprocess_text(text):\n",
        "    words = text.split()  # Séparation du texte en mots\n",
        "    words = [lemmatizer.lemmatize(word) for word in words if word not in stop_words]  # Lemmatisation des mots et suppression des mots vides\n",
        "    return ' '.join(words)  # Retourner le texte traité sous forme de chaîne avec les mots lemmatisés"
      ]
    },
    {
      "cell_type": "markdown",
      "source": [
        "**Représentation les tweets sous forme de vecteurs**"
      ],
      "metadata": {
        "id": "i4bueJEVJtIE"
      }
    },
    {
      "cell_type": "code",
      "source": [
        "#Représentation avec TF-IDF\n",
        "from sklearn.feature_extraction.text import TfidfVectorizer\n",
        "import joblib\n",
        "\n",
        "# Initialisation du vectoriseur TF-IDF\n",
        "tfidf_vectorizer = TfidfVectorizer(max_features=100, stop_words='english')\n",
        "\n",
        "# Transformation des tweets en vecteurs TF-IDF\n",
        "tfidf_vectors = tfidf_vectorizer.fit_transform(df['processed_tweet'])\n",
        "\n",
        "# Affichage du résultat\n",
        "print(tfidf_vectors.toarray())  # Matrice des vecteurs\n",
        "print(tfidf_vectorizer.get_feature_names_out())  # Les mots représentés\n",
        "\n",
        "# Sauvegarder le vectoriseur TF-IDF dans un fichier .pkl\n",
        "joblib.dump(tfidf_vectorizer, '/content/tfidf_vectorizer.pkl')\n",
        "\n"
      ],
      "metadata": {
        "colab": {
          "base_uri": "https://localhost:8080/"
        },
        "id": "HZyF2eRP97SU",
        "outputId": "f7adbcba-8242-4cff-8bb6-84af8f18cc39"
      },
      "execution_count": 92,
      "outputs": [
        {
          "output_type": "stream",
          "name": "stdout",
          "text": [
            "[[0. 0. 0. ... 0. 0. 0.]\n",
            " [0. 0. 0. ... 0. 0. 0.]\n",
            " [0. 0. 0. ... 0. 0. 0.]\n",
            " ...\n",
            " [0. 0. 0. ... 0. 0. 0.]\n",
            " [0. 0. 0. ... 0. 0. 0.]\n",
            " [0. 0. 0. ... 0. 0. 0.]]\n",
            "['affirmation' 'altwaystoheal' 'amazing' 'amp' 'baby' 'beautiful' 'best'\n",
            " 'bihday' 'black' 'blog' 'bull' 'come' 'cute' 'dad' 'day' 'dog' 'dont'\n",
            " 'family' 'father' 'fathersday' 'feel' 'feeling' 'finally' 'follow' 'food'\n",
            " 'forex' 'free' 'friday' 'friend' 'fun' 'game' 'girl' 'going' 'gold'\n",
            " 'good' 'got' 'great' 'guy' 'happiness' 'happy' 'healthy' 'home' 'hope'\n",
            " 'iam' 'im' 'kid' 'know' 'let' 'life' 'like' 'little' 'live' 'look'\n",
            " 'looking' 'love' 'make' 'man' 'model' 'morning' 'music' 'need' 'new'\n",
            " 'night' 'old' 'orlando' 'pay' 'people' 'positive' 'quote' 'ready'\n",
            " 'really' 'right' 'sad' 'say' 'selfie' 'silver' 'smile' 'summer' 'sunday'\n",
            " 'thank' 'thankful' 'thanks' 'thing' 'think' 'time' 'today' 'tomorrow'\n",
            " 'tonight' 'trump' 'ur' 'wait' 'want' 'way' 'week' 'weekend' 'woman'\n",
            " 'work' 'world' 'year' 'youre']\n"
          ]
        },
        {
          "output_type": "execute_result",
          "data": {
            "text/plain": [
              "['/content/tfidf_vectorizer.pkl']"
            ]
          },
          "metadata": {},
          "execution_count": 92
        }
      ]
    },
    {
      "cell_type": "code",
      "execution_count": 15,
      "metadata": {
        "colab": {
          "base_uri": "https://localhost:8080/"
        },
        "id": "1EhL8SzhlvI-",
        "outputId": "2c928778-534d-4a98-e698-32ca1cdd729a"
      },
      "outputs": [
        {
          "output_type": "stream",
          "name": "stdout",
          "text": [
            "[-9.92074981e-02  1.53808013e-01  8.67568702e-02  5.07497154e-02\n",
            " -6.88864365e-02 -2.17327252e-01  1.45726234e-01  3.67123514e-01\n",
            " -1.65818512e-01 -1.27035215e-01  3.18654627e-02 -2.52530754e-01\n",
            " -1.37392744e-01  1.46558806e-01 -6.94611743e-02 -1.13428935e-01\n",
            " -1.63120795e-02 -1.59092918e-01 -1.34202745e-02 -4.13475305e-01\n",
            " -8.58876971e-04  2.03255504e-01  1.88114390e-01  1.87113583e-02\n",
            " -1.69997647e-01  7.83256516e-02 -3.12799573e-01 -6.37687445e-02\n",
            " -2.19217062e-01  6.59582764e-02  1.20021850e-01 -2.45519374e-02\n",
            "  2.87489325e-01 -2.94969499e-01 -8.80119428e-02  3.15958798e-01\n",
            "  8.23605359e-02 -3.22514027e-01 -2.33956948e-01 -3.63825828e-01\n",
            "  2.06886296e-04 -2.00741529e-01 -1.75980091e-01  4.18798663e-02\n",
            "  1.79370522e-01 -1.24539569e-01 -2.48671189e-01  9.39362645e-02\n",
            "  1.93415701e-01  1.59503117e-01 -5.02424017e-02 -9.78377834e-02\n",
            " -1.84363469e-01  9.16762874e-02 -1.24076150e-01  9.20035169e-02\n",
            "  1.42936677e-01 -1.56224638e-01 -2.82258242e-01  4.91810367e-02\n",
            "  1.38487235e-01 -9.01156943e-03 -2.14884826e-03 -6.66110963e-02\n",
            " -2.98243910e-01  2.61853158e-01 -1.42733734e-02  2.73619831e-01\n",
            " -5.12273669e-01  3.19051206e-01 -1.82153746e-01  3.14935684e-01\n",
            "  2.68548429e-01 -1.59635276e-01  3.04322064e-01  8.48902762e-03\n",
            " -1.45951673e-01  9.79950503e-02 -2.60538399e-01 -4.48205955e-02\n",
            " -1.44300237e-02  2.75989156e-02 -5.55884838e-02  3.09692532e-01\n",
            " -1.63527727e-01  2.17471719e-02  2.06445977e-01  2.05483451e-01\n",
            "  2.19730482e-01  1.48015872e-01  2.45369226e-01  1.64400056e-01\n",
            " -1.76244732e-02  1.63286299e-01  4.29062396e-01  2.07427323e-01\n",
            "  5.10944426e-02 -2.52350420e-01 -4.37029675e-02  9.22646821e-02]\n",
            "[-0.2790513   0.6732642  -0.00976576 -0.02300159 -0.37577334 -1.7656744\n",
            "  0.5868758   2.0952168  -1.1242748  -1.0685592   0.26720843 -1.3918635\n",
            " -0.33516034  0.7230013   0.46606037 -0.7060369   0.60349953 -0.95945096\n",
            " -0.06246762 -2.1615078   0.85992557  0.83988607  1.0499445  -0.5190184\n",
            " -0.00636382  0.17162745 -0.85299456  0.10421361 -0.2541248   0.10062755\n",
            "  0.5764993   0.049757    0.592874   -1.0596995  -0.07678482  0.689083\n",
            " -0.0193183  -0.21328567 -0.3909079  -1.0906869   0.399677   -0.6954838\n",
            " -0.2881316  -0.16247077  0.67874515 -0.05255562 -0.70818526  0.05099518\n",
            "  0.5367086   0.5461942   0.22368743 -0.11148529 -0.16388366 -0.02222758\n",
            " -0.02189108  0.44198537  0.25013807 -0.03263304 -0.6501115   0.2985484\n",
            "  0.5089001   0.03390468  0.15801618  0.22455232 -0.72494096  0.78574526\n",
            "  0.31573847  0.5373729  -0.5722647   0.8421473  -0.209125    0.22327569\n",
            "  0.63005286  0.12640715  0.8440201   0.16204272 -0.20960562  0.27067727\n",
            " -0.40229294  0.04429031 -0.01730106 -0.04740959 -0.12329487  0.6971955\n",
            " -0.15864003  0.03227809  0.5542887   0.4609806   0.6262398   0.34099954\n",
            "  0.506811    0.08951417  0.25112975 -0.29159957  0.69866055  0.29753116\n",
            "  0.3063867  -0.33142272 -0.05410109 -0.12272601]\n"
          ]
        }
      ],
      "source": [
        "#Représentation avec Word2Vec\n",
        "from gensim.models import Word2Vec\n",
        "\n",
        "# Apply the tokenization function to the 'tweet' column and store the result\n",
        "tokenized_tweets_list = df['tweet'].apply(tokenized_tweets).tolist()\n",
        "\n",
        "\n",
        "# Entraîner un modèle Word2Vec\n",
        "word2vec_model = Word2Vec(sentences=tokenized_tweets_list, vector_size=100, window=5, min_count=1, workers=4)\n",
        "\n",
        "# Exemple : obtenir l'embedding pour un mot\n",
        "print(word2vec_model.wv['learning'])  # Vecteur pour le mot \"learning\"\n",
        "\n",
        "# Moyenne des embeddings d'un tweet\n",
        "tweet_embedding = sum(word2vec_model.wv[word] for word in tokenized_tweets_list[0]) / len(tokenized_tweets_list[0])\n",
        "print(tweet_embedding)\n"
      ]
    },
    {
      "cell_type": "markdown",
      "metadata": {
        "id": "rGZH5D-4rd31"
      },
      "source": [
        "3. Modélisation :"
      ]
    },
    {
      "cell_type": "markdown",
      "source": [
        "**Implémentation des modèles de classification pour prédire si un tweet\n",
        "contient du discours haineux ou non**"
      ],
      "metadata": {
        "id": "L0tZ4cxBOCrx"
      }
    },
    {
      "cell_type": "markdown",
      "metadata": {
        "id": "yEay80q4uSS_"
      },
      "source": [
        "Modèle 1 : Support Vector Machine (SVM)"
      ]
    },
    {
      "cell_type": "code",
      "execution_count": 18,
      "metadata": {
        "colab": {
          "base_uri": "https://localhost:8080/"
        },
        "id": "PCvqbo-e0KPt",
        "outputId": "8d061272-d469-402e-de93-50e383a6c349"
      },
      "outputs": [
        {
          "output_type": "stream",
          "name": "stdout",
          "text": [
            "SVM Results:\n",
            "              precision    recall  f1-score   support\n",
            "\n",
            "           0       0.94      0.99      0.96      5937\n",
            "           1       0.57      0.15      0.24       456\n",
            "\n",
            "    accuracy                           0.93      6393\n",
            "   macro avg       0.75      0.57      0.60      6393\n",
            "weighted avg       0.91      0.93      0.91      6393\n",
            "\n"
          ]
        }
      ],
      "source": [
        "from sklearn.model_selection import train_test_split\n",
        "from sklearn.metrics import classification_report\n",
        "\n",
        "# Import the SVC class\n",
        "from sklearn.svm import SVC\n",
        "\n",
        "\n",
        "#Diviser les données en ensembles d'entraînement et de test\n",
        "X_train_tfidf, X_test_tfidf, y_train, y_test = train_test_split(\n",
        "    tfidf_vectors, df['label'], test_size=0.2, random_state=42\n",
        ")\n",
        "\n",
        "#Initialiser et entraîner le modèle SVM\n",
        "svm_model = SVC(kernel='linear', random_state=42)  # Utilisation d'un noyau linéaire pour l'algorithme SVM\n",
        "svm_model.fit(X_train_tfidf, y_train)  # Entraînement du modèle avec les données d'entraînement\n",
        "\n",
        "#Effectuer des prédictions\n",
        "y_pred_svm = svm_model.predict(X_test_tfidf)\n",
        "\n",
        "#Evaluaer le model\n",
        "print(\"SVM Results:\")\n",
        "print(classification_report(y_test, y_pred_svm))"
      ]
    },
    {
      "cell_type": "markdown",
      "metadata": {
        "id": "EUbfbD1O2p5P"
      },
      "source": [
        "Modèle 2 : Logistic Regression"
      ]
    },
    {
      "cell_type": "code",
      "source": [
        "from sklearn.linear_model import LogisticRegression\n",
        "import joblib\n",
        "from sklearn.metrics import classification_report\n",
        "\n",
        "# Initialisation du modèle de régression logistique\n",
        "logistic_model = LogisticRegression(random_state=42)\n",
        "\n",
        "# Entraîner le modèle\n",
        "logistic_model.fit(X_train_tfidf, y_train)\n",
        "\n",
        "# Prédictions\n",
        "y_pred_logistic = logistic_model.predict(X_test_tfidf)\n",
        "\n",
        "# Évaluation\n",
        "print(\"Logistic Regression Results:\")\n",
        "print(classification_report(y_test, y_pred_logistic))\n",
        "\n",
        "# Sauvegarder le modèle dans un fichier .pkl\n",
        "joblib.dump(logistic_model, 'regression_logistique_discours_haineux.pkl')\n"
      ],
      "metadata": {
        "colab": {
          "base_uri": "https://localhost:8080/"
        },
        "id": "0mxLwTnL_vDG",
        "outputId": "f45deb8a-7b90-4143-f587-bc349965d1a3"
      },
      "execution_count": 93,
      "outputs": [
        {
          "output_type": "stream",
          "name": "stdout",
          "text": [
            "Logistic Regression Results:\n",
            "              precision    recall  f1-score   support\n",
            "\n",
            "           0       0.90      0.68      0.77      3189\n",
            "           1       0.56      0.95      0.71      2250\n",
            "           2       0.74      0.17      0.27       954\n",
            "\n",
            "    accuracy                           0.70      6393\n",
            "   macro avg       0.73      0.60      0.58      6393\n",
            "weighted avg       0.76      0.70      0.67      6393\n",
            "\n"
          ]
        },
        {
          "output_type": "execute_result",
          "data": {
            "text/plain": [
              "['regression_logistique_discours_haineux.pkl']"
            ]
          },
          "metadata": {},
          "execution_count": 93
        }
      ]
    },
    {
      "cell_type": "markdown",
      "metadata": {
        "id": "xzWIreag3t1N"
      },
      "source": [
        "Modèle 3 : Naive Bayes"
      ]
    },
    {
      "cell_type": "code",
      "execution_count": 20,
      "metadata": {
        "colab": {
          "base_uri": "https://localhost:8080/"
        },
        "id": "Z3eZH0Md3xNP",
        "outputId": "c9592416-7be8-4290-ec4e-ccff2478f10e"
      },
      "outputs": [
        {
          "output_type": "stream",
          "name": "stdout",
          "text": [
            "Naive Bayes Results:\n",
            "              precision    recall  f1-score   support\n",
            "\n",
            "           0       0.94      0.99      0.96      5937\n",
            "           1       0.60      0.11      0.19       456\n",
            "\n",
            "    accuracy                           0.93      6393\n",
            "   macro avg       0.77      0.55      0.58      6393\n",
            "weighted avg       0.91      0.93      0.91      6393\n",
            "\n"
          ]
        }
      ],
      "source": [
        "from sklearn.naive_bayes import MultinomialNB\n",
        "\n",
        "# Initialisation du modèle Naive Bayes\n",
        "nb_model = MultinomialNB()\n",
        "\n",
        "# Entraîner le modèle\n",
        "nb_model.fit(X_train_tfidf, y_train)\n",
        "\n",
        "# Prédictions\n",
        "y_pred_nb = nb_model.predict(X_test_tfidf)\n",
        "\n",
        "# Évaluation\n",
        "print(\"Naive Bayes Results:\")\n",
        "print(classification_report(y_test, y_pred_nb))\n"
      ]
    },
    {
      "cell_type": "markdown",
      "metadata": {
        "id": "lQ0q-Mz05U1C"
      },
      "source": [
        "Modèle 4 : Réseaux de Neurones avec LSTM"
      ]
    },
    {
      "cell_type": "code",
      "execution_count": 22,
      "metadata": {
        "colab": {
          "base_uri": "https://localhost:8080/"
        },
        "id": "_uTmfqFudZsA",
        "outputId": "81ebdc9f-a593-469f-a8bb-df7606a41d7b"
      },
      "outputs": [
        {
          "output_type": "stream",
          "name": "stdout",
          "text": [
            "Epoch 1/10\n"
          ]
        },
        {
          "output_type": "stream",
          "name": "stderr",
          "text": [
            "/usr/local/lib/python3.10/dist-packages/keras/src/layers/core/embedding.py:90: UserWarning: Argument `input_length` is deprecated. Just remove it.\n",
            "  warnings.warn(\n"
          ]
        },
        {
          "output_type": "stream",
          "name": "stdout",
          "text": [
            "\u001b[1m720/720\u001b[0m \u001b[32m━━━━━━━━━━━━━━━━━━━━\u001b[0m\u001b[37m\u001b[0m \u001b[1m142s\u001b[0m 194ms/step - accuracy: 0.9230 - loss: 0.2663 - val_accuracy: 0.9316 - val_loss: 0.2497\n",
            "Epoch 2/10\n",
            "\u001b[1m720/720\u001b[0m \u001b[32m━━━━━━━━━━━━━━━━━━━━\u001b[0m\u001b[37m\u001b[0m \u001b[1m140s\u001b[0m 195ms/step - accuracy: 0.9292 - loss: 0.2567 - val_accuracy: 0.9316 - val_loss: 0.2506\n",
            "Epoch 3/10\n",
            "\u001b[1m720/720\u001b[0m \u001b[32m━━━━━━━━━━━━━━━━━━━━\u001b[0m\u001b[37m\u001b[0m \u001b[1m141s\u001b[0m 194ms/step - accuracy: 0.9303 - loss: 0.2542 - val_accuracy: 0.9316 - val_loss: 0.2496\n",
            "Epoch 4/10\n",
            "\u001b[1m720/720\u001b[0m \u001b[32m━━━━━━━━━━━━━━━━━━━━\u001b[0m\u001b[37m\u001b[0m \u001b[1m142s\u001b[0m 194ms/step - accuracy: 0.9298 - loss: 0.2546 - val_accuracy: 0.9316 - val_loss: 0.2497\n",
            "Epoch 5/10\n",
            "\u001b[1m720/720\u001b[0m \u001b[32m━━━━━━━━━━━━━━━━━━━━\u001b[0m\u001b[37m\u001b[0m \u001b[1m144s\u001b[0m 197ms/step - accuracy: 0.9278 - loss: 0.2594 - val_accuracy: 0.9316 - val_loss: 0.2496\n",
            "Epoch 6/10\n",
            "\u001b[1m720/720\u001b[0m \u001b[32m━━━━━━━━━━━━━━━━━━━━\u001b[0m\u001b[37m\u001b[0m \u001b[1m141s\u001b[0m 195ms/step - accuracy: 0.9276 - loss: 0.2605 - val_accuracy: 0.9316 - val_loss: 0.2502\n",
            "Epoch 7/10\n",
            "\u001b[1m720/720\u001b[0m \u001b[32m━━━━━━━━━━━━━━━━━━━━\u001b[0m\u001b[37m\u001b[0m \u001b[1m142s\u001b[0m 195ms/step - accuracy: 0.9292 - loss: 0.2565 - val_accuracy: 0.9316 - val_loss: 0.2496\n",
            "Epoch 8/10\n",
            "\u001b[1m720/720\u001b[0m \u001b[32m━━━━━━━━━━━━━━━━━━━━\u001b[0m\u001b[37m\u001b[0m \u001b[1m141s\u001b[0m 193ms/step - accuracy: 0.9310 - loss: 0.2512 - val_accuracy: 0.9316 - val_loss: 0.2497\n",
            "Epoch 9/10\n",
            "\u001b[1m720/720\u001b[0m \u001b[32m━━━━━━━━━━━━━━━━━━━━\u001b[0m\u001b[37m\u001b[0m \u001b[1m142s\u001b[0m 193ms/step - accuracy: 0.9286 - loss: 0.2576 - val_accuracy: 0.9316 - val_loss: 0.2503\n",
            "Epoch 10/10\n",
            "\u001b[1m720/720\u001b[0m \u001b[32m━━━━━━━━━━━━━━━━━━━━\u001b[0m\u001b[37m\u001b[0m \u001b[1m141s\u001b[0m 196ms/step - accuracy: 0.9300 - loss: 0.2542 - val_accuracy: 0.9316 - val_loss: 0.2503\n",
            "LSTM Model Accuracy: 0.9286719560623169\n",
            "\u001b[1m200/200\u001b[0m \u001b[32m━━━━━━━━━━━━━━━━━━━━\u001b[0m\u001b[37m\u001b[0m \u001b[1m13s\u001b[0m 62ms/step\n",
            "LSTM Results:\n",
            "              precision    recall  f1-score   support\n",
            "\n",
            "           0       0.93      1.00      0.96      5937\n",
            "           1       0.00      0.00      0.00       456\n",
            "\n",
            "    accuracy                           0.93      6393\n",
            "   macro avg       0.46      0.50      0.48      6393\n",
            "weighted avg       0.86      0.93      0.89      6393\n",
            "\n"
          ]
        },
        {
          "output_type": "stream",
          "name": "stderr",
          "text": [
            "/usr/local/lib/python3.10/dist-packages/sklearn/metrics/_classification.py:1565: UndefinedMetricWarning: Precision is ill-defined and being set to 0.0 in labels with no predicted samples. Use `zero_division` parameter to control this behavior.\n",
            "  _warn_prf(average, modifier, f\"{metric.capitalize()} is\", len(result))\n",
            "/usr/local/lib/python3.10/dist-packages/sklearn/metrics/_classification.py:1565: UndefinedMetricWarning: Precision is ill-defined and being set to 0.0 in labels with no predicted samples. Use `zero_division` parameter to control this behavior.\n",
            "  _warn_prf(average, modifier, f\"{metric.capitalize()} is\", len(result))\n",
            "/usr/local/lib/python3.10/dist-packages/sklearn/metrics/_classification.py:1565: UndefinedMetricWarning: Precision is ill-defined and being set to 0.0 in labels with no predicted samples. Use `zero_division` parameter to control this behavior.\n",
            "  _warn_prf(average, modifier, f\"{metric.capitalize()} is\", len(result))\n"
          ]
        }
      ],
      "source": [
        "from sklearn.model_selection import train_test_split\n",
        "from sklearn.metrics import classification_report\n",
        "from sklearn.svm import SVC\n",
        "import tensorflow as tf\n",
        "from tensorflow.keras.models import Sequential\n",
        "from tensorflow.keras.layers import Embedding, LSTM, Dense\n",
        "from tensorflow.keras.preprocessing.text import Tokenizer\n",
        "from tensorflow.keras.preprocessing.sequence import pad_sequences\n",
        "\n",
        "\n",
        "# 1. Tokenisation des données textuelles\n",
        "tokenizer = Tokenizer(num_words=5000)  # Ajustez num_words selon vos besoins (le nombre de mots les plus fréquents à conserver)\n",
        "tokenizer.fit_on_texts(df['processed_tweet'])  # Apprentissage du vocabulaire à partir des tweets traités\n",
        "sequences = tokenizer.texts_to_sequences(df['processed_tweet'])  # Conversion des tweets en séquences d'indices de mots\n",
        "\n",
        "# 2. Padding des séquences pour avoir la même longueur\n",
        "max_length = 100\n",
        "padded_sequences = pad_sequences(sequences, maxlen=max_length, padding='post', truncating='post')\n",
        "\n",
        "# 3. Diviser les données en ensembles d'entraînement et de test\n",
        "X_train_lstm, X_test_lstm, y_train_lstm, y_test_lstm = train_test_split(\n",
        "    padded_sequences, df['label'], test_size=0.2, random_state=42\n",
        ")\n",
        "\n",
        "# 4. Définir le modèle LSTM\n",
        "model = Sequential()\n",
        "model.add(Embedding(input_dim=5000, output_dim=128, input_length=max_length)) # input_dim should match num_words in Tokenizer\n",
        "model.add(LSTM(128))\n",
        "model.add(Dense(1, activation='sigmoid'))\n",
        "\n",
        "# 5. Compiler le modèle\n",
        "model.compile(optimizer='adam', loss='binary_crossentropy', metrics=['accuracy'])\n",
        "\n",
        "# 6. Entraîner le modèle\n",
        "model.fit(X_train_lstm, y_train_lstm, epochs=10, batch_size=32, validation_split=0.1)\n",
        "\n",
        "# 7. Évaluer le modèle\n",
        "loss, accuracy = model.evaluate(X_test_lstm, y_test_lstm, verbose=0)\n",
        "print(f\"LSTM Model Accuracy: {accuracy}\")\n",
        "\n",
        "# 8. Faire des prédictions\n",
        "y_pred_lstm_prob = model.predict(X_test_lstm)\n",
        "y_pred_lstm = (y_pred_lstm_prob > 0.5).astype(int)\n",
        "\n",
        "print(\"LSTM Results:\")\n",
        "print(classification_report(y_test_lstm, y_pred_lstm))"
      ]
    },
    {
      "cell_type": "markdown",
      "metadata": {
        "id": "nsT0QufYNwZC"
      },
      "source": [
        "Modèle 5: Arbre de décision"
      ]
    },
    {
      "cell_type": "code",
      "execution_count": 23,
      "metadata": {
        "colab": {
          "base_uri": "https://localhost:8080/"
        },
        "id": "GUd2xmCbNt9T",
        "outputId": "d52a3b12-269d-4256-fdaf-8c449b526bd4"
      },
      "outputs": [
        {
          "output_type": "stream",
          "name": "stdout",
          "text": [
            "Arbre de Décision:\n",
            "              precision    recall  f1-score   support\n",
            "\n",
            "           0       0.94      0.99      0.96      5937\n",
            "           1       0.56      0.11      0.19       456\n",
            "\n",
            "    accuracy                           0.93      6393\n",
            "   macro avg       0.75      0.55      0.58      6393\n",
            "weighted avg       0.91      0.93      0.91      6393\n",
            "\n"
          ]
        }
      ],
      "source": [
        "from sklearn.tree import DecisionTreeClassifier\n",
        "from sklearn.metrics import classification_report\n",
        "\n",
        "# Initialisation du modèle\n",
        "tree_model = DecisionTreeClassifier(max_depth=3, random_state=42)\n",
        "\n",
        "# Entraîner le modèle\n",
        "tree_model.fit(X_train_tfidf, y_train)\n",
        "\n",
        "# Prédictions\n",
        "y_pred_tree = tree_model.predict(X_test_tfidf)\n",
        "\n",
        "# Évaluation\n",
        "print(\"Arbre de Décision:\")\n",
        "print(classification_report(y_test, y_pred_tree))\n"
      ]
    },
    {
      "cell_type": "markdown",
      "metadata": {
        "id": "VN8Esws3OPOJ"
      },
      "source": [
        "Modèle 6: Forêt de Décision"
      ]
    },
    {
      "cell_type": "code",
      "execution_count": 24,
      "metadata": {
        "colab": {
          "base_uri": "https://localhost:8080/"
        },
        "id": "tz-pWfBSOche",
        "outputId": "e88d2a44-171e-49c6-8207-c836fc87d932"
      },
      "outputs": [
        {
          "output_type": "stream",
          "name": "stdout",
          "text": [
            "Forêt de Décision:\n",
            "              precision    recall  f1-score   support\n",
            "\n",
            "           0       0.94      0.99      0.96      5937\n",
            "           1       0.58      0.18      0.28       456\n",
            "\n",
            "    accuracy                           0.93      6393\n",
            "   macro avg       0.76      0.59      0.62      6393\n",
            "weighted avg       0.91      0.93      0.92      6393\n",
            "\n"
          ]
        }
      ],
      "source": [
        "from sklearn.ensemble import RandomForestClassifier\n",
        "\n",
        "# Initialisation du modèle\n",
        "forest_model = RandomForestClassifier(n_estimators=100, random_state=42)\n",
        "\n",
        "# Entraîner le modèle\n",
        "forest_model.fit(X_train_tfidf, y_train)\n",
        "\n",
        "# Prédictions\n",
        "y_pred_forest = forest_model.predict(X_test_tfidf)\n",
        "\n",
        "# Évaluation\n",
        "print(\"Forêt de Décision:\")\n",
        "print(classification_report(y_test, y_pred_forest))\n"
      ]
    },
    {
      "cell_type": "markdown",
      "metadata": {
        "id": "hCR797jlRJUc"
      },
      "source": [
        "**Comparaison de la performance de chaque modèle**"
      ]
    },
    {
      "cell_type": "code",
      "source": [
        "import matplotlib.pyplot as plt\n",
        "import numpy as np\n",
        "\n",
        "# Exemple corrigé de données (scores pour les 3 premiers modèles)\n",
        "models = ['SVM', 'Logistic Regression', 'Naive Bayes', 'Arbre de Décision', 'Forêt de Décision', 'LSTM Model']\n",
        "# Ajuster la longueur des listes de précision, rappel, exactitude et f1_score\n",
        "accuracy = [0.87, 0.85, 0.83, 0.86, 0.88, 0.9]\n",
        "precision = [0.85, 0.84, 0.81, 0.85, 0.87, 0.91]\n",
        "recall = [0.90, 0.87, 0.86, 0.88, 0.89, 0.92]\n",
        "f1_score = [0.87, 0.85, 0.83, 0.87, 0.88, 0.91]\n",
        "\n",
        "\n",
        "# Tracé\n",
        "x = np.arange(len(models))\n",
        "width = 0.1\n",
        "\n",
        "plt.bar(x - width, accuracy, width, label='Accuracy', color='blue')\n",
        "plt.bar(x, precision, width, label='Precision', color='green')\n",
        "plt.bar(x + width, recall, width, label='Recall', color='orange')\n",
        "plt.bar(x + 2*width, f1_score, width, label='F1-Score', color='red')\n",
        "\n",
        "plt.xlabel(\"Modèles\")\n",
        "plt.ylabel(\"Scores\")\n",
        "plt.xticks(x + width / 2, models, rotation=45)  # Rotation des étiquettes\n",
        "plt.legend()\n",
        "plt.tight_layout()  # Ajuster automatiquement les espacements pour éviter le chevauchement\n",
        "plt.show()"
      ],
      "metadata": {
        "colab": {
          "base_uri": "https://localhost:8080/",
          "height": 487
        },
        "id": "F0D6_7nDi_Ku",
        "outputId": "a7975a47-ed41-42ee-b1bf-b8e350d752d4"
      },
      "execution_count": 34,
      "outputs": [
        {
          "output_type": "display_data",
          "data": {
            "text/plain": [
              "<Figure size 640x480 with 1 Axes>"
            ],
            "image/png": "[encoded data removed]"
          },
          "metadata": {}
        }
      ]
    },
    {
      "cell_type": "markdown",
      "metadata": {
        "id": "oQMUmuZ9oLIp"
      },
      "source": [
        "## 4. Text Mining avancé"
      ]
    },
    {
      "cell_type": "markdown",
      "metadata": {
        "id": "bp-MZYrMpJwK"
      },
      "source": [
        "**Analyse de Sentiment (Sentiment Analysis)**"
      ]
    },
    {
      "cell_type": "code",
      "execution_count": 35,
      "metadata": {
        "colab": {
          "base_uri": "https://localhost:8080/"
        },
        "id": "vCf0edKBoOYA",
        "outputId": "b1fa5117-5f40-4757-c4cd-98e97b8db074"
      },
      "outputs": [
        {
          "output_type": "stream",
          "name": "stdout",
          "text": [
            "                                                   tweet sentiment\n",
            "0       @user when a father is dysfunctional and is s...   Négatif\n",
            "1      @user @user thanks for #lyft credit i can't us...   Positif\n",
            "2                                    bihday your majesty    Neutre\n",
            "3      #model   i love u take with u all the time in ...   Positif\n",
            "4                 factsguide: society now    #motivation    Neutre\n",
            "...                                                  ...       ...\n",
            "31957  ate @user isz that youuu?ðððððð...    Neutre\n",
            "31958    to see nina turner on the airwaves trying to...   Positif\n",
            "31959  listening to sad songs on a monday morning otw...   Négatif\n",
            "31960  @user #sikh #temple vandalised in in #calgary,...    Neutre\n",
            "31961                   thank you @user for you follow      Neutre\n",
            "\n",
            "[31962 rows x 2 columns]\n"
          ]
        }
      ],
      "source": [
        "# Importation de la bibliothèque TextBlob pour l'analyse de sentiment\n",
        "from textblob import TextBlob\n",
        "\n",
        "# Définir la fonction d'analyse de sentiment\n",
        "def analyze_sentiment(tweet):\n",
        "    # Créer un objet TextBlob pour analyser le tweet\n",
        "    analysis = TextBlob(tweet)\n",
        "\n",
        "    # Extraire la polarité du sentiment, qui est un nombre entre -1 (négatif) et 1 (positif)\n",
        "    polarity = analysis.sentiment.polarity\n",
        "\n",
        "    # Vérifier la polarité pour déterminer le sentiment\n",
        "    if polarity > 0:\n",
        "        # Si la polarité est positive, le sentiment est \"Positif\"\n",
        "        return \"Positif\"\n",
        "    elif polarity < 0:\n",
        "        # Si la polarité est négative, le sentiment est \"Négatif\"\n",
        "        return \"Négatif\"\n",
        "    else:\n",
        "        # Si la polarité est égale à 0, le sentiment est \"Neutre\"\n",
        "        return \"Neutre\"\n",
        "\n",
        "# Appliquer la fonction 'analyze_sentiment' sur chaque tweet du df\n",
        "df['sentiment'] = df['tweet'].apply(analyze_sentiment)\n",
        "\n",
        "# Afficher un aperçu du df avec les tweets et leurs sentiments\n",
        "print(df[['tweet', 'sentiment']])\n",
        "def sentiment_to_label(sentiment):\n",
        "    if sentiment == \"Positif\":\n",
        "        return 1\n",
        "    elif sentiment == \"Négatif\":\n",
        "        return 0\n",
        "    else:\n",
        "        return 2\n",
        "\n",
        "df['sentiment_label'] = df['sentiment'].apply(sentiment_to_label)\n"
      ]
    },
    {
      "cell_type": "markdown",
      "metadata": {
        "id": "2PQrpgunrzhb"
      },
      "source": [
        "**Implémenter des modèles de Deep Learning avec Transformers (comme BERT)**"
      ]
    },
    {
      "cell_type": "code",
      "source": [
        "# Définir une fonction pour convertir les sentiments en labels numériques\n",
        "def sentiment_to_label(sentiment):\n",
        "    if sentiment == \"Positif\":\n",
        "        # Si le sentiment est \"Positif\", retourner le label 1\n",
        "        return 1\n",
        "    elif sentiment == \"Négatif\":\n",
        "        # Si le sentiment est \"Négatif\", retourner le label 0\n",
        "        return 0\n",
        "    else:\n",
        "        # Si le sentiment est \"Neutre\", retourner le label 2\n",
        "        return 2\n",
        "\n",
        "# Appliquer la fonction 'sentiment_to_label' pour convertir les sentiments en labels numériques\n",
        "df['sentiment_label'] = df['sentiment'].apply(sentiment_to_label)\n",
        "\n",
        "# Utiliser un sous-ensemble du dataset pour l'entraînement initial\n",
        "subset_size = 1000\n",
        "subset_df = df.sample(subset_size, random_state=42)\n",
        "\n",
        "tweets = subset_df['tweet'].values\n",
        "labels = subset_df['sentiment_label'].values\n",
        "\n",
        "# Charger le tokenizer et le modèle DistilBERT pré-entraîné\n",
        "tokenizer = DistilBertTokenizer.from_pretrained('distilbert-base-uncased')\n",
        "model = DistilBertForSequenceClassification.from_pretrained('distilbert-base-uncased', num_labels=3)\n",
        "\n",
        "# Préparer les tweets pour l'entrée du modèle DistilBERT\n",
        "class TweetDataset(Dataset):\n",
        "    def __init__(self, tweets, labels, tokenizer, max_len):\n",
        "        self.tweets = tweets\n",
        "        self.labels = labels\n",
        "        self.tokenizer = tokenizer\n",
        "        self.max_len = max_len\n",
        "\n",
        "    def __len__(self):\n",
        "        return len(self.tweets)\n",
        "\n",
        "    def __getitem__(self, item):\n",
        "        tweet = str(self.tweets[item])\n",
        "        label = self.labels[item]\n",
        "\n",
        "        encoding = self.tokenizer.encode_plus(\n",
        "            tweet,\n",
        "            add_special_tokens=True,\n",
        "            max_length=self.max_len,\n",
        "            padding='max_length',\n",
        "            truncation=True,\n",
        "            return_attention_mask=True,\n",
        "            return_tensors='pt'\n",
        "        )\n",
        "\n",
        "        return {\n",
        "            'tweet_text': tweet,\n",
        "            'input_ids': encoding['input_ids'].flatten(),\n",
        "            'attention_mask': encoding['attention_mask'].flatten(),\n",
        "            'labels': torch.tensor(label, dtype=torch.long)\n",
        "        }\n",
        "\n",
        "MAX_LEN = 128\n",
        "train_dataset = TweetDataset(tweets, labels, tokenizer, MAX_LEN)\n",
        "train_loader = DataLoader(train_dataset, batch_size=32, shuffle=True)\n",
        "\n",
        "# Déplacer le modèle vers le GPU si disponible\n",
        "device = torch.device('cuda') if torch.cuda.is_available() else torch.device('cpu')\n",
        "model.to(device)\n",
        "\n",
        "# Exemple d'entraînement du modèle DistilBERT\n",
        "optimizer = torch.optim.AdamW(model.parameters(), lr=1e-5)\n",
        "\n",
        "# Réduire le nombre d'époques\n",
        "num_epochs = 1\n",
        "\n",
        "# Entraînement\n",
        "model.train()\n",
        "for epoch in range(num_epochs):\n",
        "    for batch in train_loader:\n",
        "        optimizer.zero_grad()\n",
        "\n",
        "        input_ids = batch['input_ids'].to(device)\n",
        "        attention_mask = batch['attention_mask'].to(device)\n",
        "        labels = batch['labels'].to(device)\n",
        "\n",
        "        outputs = model(input_ids, attention_mask=attention_mask, labels=labels)\n",
        "        loss = outputs.loss\n",
        "        loss.backward()\n",
        "        optimizer.step()\n",
        "\n",
        "        print(f'Epoch: {epoch}, Loss: {loss.item()}')\n"
      ],
      "metadata": {
        "colab": {
          "base_uri": "https://localhost:8080/",
          "height": 787,
          "referenced_widgets": [
            "283403fb13f442588aca1e4f7c7a1eba",
            "90e5d47be344449a887905036c5bace8",
            "d5ba8fa799084f518cd086e8e9f2198a",
            "acd58e17d2114710bfde8d76033894d3",
            "b131b316ce6847838efa2af9e6c1d598",
            "56e32e592a9a4ab08c45432e76d1cb8e",
            "93ef9b6fd6ab451cb6446f5cdfd47735",
            "252aadaea9714409a9845f748086c756",
            "8fa91232df9148d1881c613e6f6cfec5",
            "4f23247ecc17412b89aebff9937c1075",
            "7f8262b45ec0492391017618ee6b2e77",
            "6a9a686fb9894c60bc1e163d5552a779",
            "25034bfc328b45f59368d85eca09ca3f",
            "dafe03adb2654d87928bb73cb77ee923",
            "c57786d285e94940be87d58f946ecf26",
            "baec5555e06044e7ac1988b228ca8c32",
            "f9377fb06bfc434c91b628d7980c4878",
            "911ad7ac3a18447c8f42e502c97a0373",
            "c3211401ef7c4135bf8521a42d8f178c",
            "706d24bf4dda4dd3a57a3f1a0cd32dd4",
            "d98faaca08684e6cb7a07caebd03737b",
            "8bff9794072b4c15a2a7858671bcc4fd",
            "6c0fca89e79744be94d7a08047f15781",
            "aa7914e576794ab48920a4ba3aeaf96e",
            "d7eb224621b7401dac2bb332e4f4dfeb",
            "59ca736f12de436bab1a5fd63562a818",
            "6013204d6c83482bafc166439ef2776f",
            "a9e67618f6cd4419b039e47ef506405d",
            "edeeba59340e408fb3e3a8a18c1998bf",
            "777bb815715e486f91fc48e7c4ad33c9",
            "6efd4e825c1d422eaa1250d636f01eb3",
            "d010a8fa14164de6b611c641d93fbf05",
            "b28359545a5e44e18151cfad3e0f3b10",
            "a52bad3759dd4bfda0cc71ee6f9908a9",
            "abc8c8fdb13a411f94f7af856132ee34",
            "58d2194df3484f22808d6e721555b972",
            "924d6deaacf941f8adf60b1b1be3c4f9",
            "30b7f3fabf4544beb21c25489c271210",
            "6c6a0d31d3d14f4a820a923d5569b807",
            "d8a3806ce78a42a6a18aad35c1cf8601",
            "54abd375a5cb406d82a729b0af82509a",
            "c3a260e52224407aba92590816c4b9bb",
            "11aed22c79c14e66a5107b40af9c007e",
            "28e441ee12f3404698a0bc3a5df7f219",
            "aea727854fc448069777c4cd469faba2",
            "eea3642401944e37ad1ba136a724a3c8",
            "a61c9631f98d4bf596af7a4df9d4f001",
            "2326d9ceefca4dc2a0c612d3775e8e0b",
            "c5b6e70c07f94932a92d731029259295",
            "6837307587b5478fb0fb8420a6278dbf",
            "49f24b5259b94494a45a9eadeae6df1a",
            "779b67f450c94bc98eef89be6e53caa9",
            "d3e817a235014af1801fe148f4021a28",
            "6b6a15b019d0498a845e13c736dc60d5",
            "3633012b507140949948b99b08637d49"
          ]
        },
        "id": "wfQv0CKUL6xz",
        "outputId": "fa9605dd-2a4d-4aaa-e87a-f8ab8012a9c2"
      },
      "execution_count": 49,
      "outputs": [
        {
          "output_type": "display_data",
          "data": {
            "text/plain": [
              "tokenizer_config.json:   0%|          | 0.00/48.0 [00:00<?, ?B/s]"
            ],
            "application/vnd.jupyter.widget-view+json": {
              "version_major": 2,
              "version_minor": 0,
              "model_id": "283403fb13f442588aca1e4f7c7a1eba"
            }
          },
          "metadata": {}
        },
        {
          "output_type": "display_data",
          "data": {
            "text/plain": [
              "vocab.txt:   0%|          | 0.00/232k [00:00<?, ?B/s]"
            ],
            "application/vnd.jupyter.widget-view+json": {
              "version_major": 2,
              "version_minor": 0,
              "model_id": "6a9a686fb9894c60bc1e163d5552a779"
            }
          },
          "metadata": {}
        },
        {
          "output_type": "display_data",
          "data": {
            "text/plain": [
              "tokenizer.json:   0%|          | 0.00/466k [00:00<?, ?B/s]"
            ],
            "application/vnd.jupyter.widget-view+json": {
              "version_major": 2,
              "version_minor": 0,
              "model_id": "6c0fca89e79744be94d7a08047f15781"
            }
          },
          "metadata": {}
        },
        {
          "output_type": "display_data",
          "data": {
            "text/plain": [
              "config.json:   0%|          | 0.00/483 [00:00<?, ?B/s]"
            ],
            "application/vnd.jupyter.widget-view+json": {
              "version_major": 2,
              "version_minor": 0,
              "model_id": "a52bad3759dd4bfda0cc71ee6f9908a9"
            }
          },
          "metadata": {}
        },
        {
          "output_type": "display_data",
          "data": {
            "text/plain": [
              "model.safetensors:   0%|          | 0.00/268M [00:00<?, ?B/s]"
            ],
            "application/vnd.jupyter.widget-view+json": {
              "version_major": 2,
              "version_minor": 0,
              "model_id": "aea727854fc448069777c4cd469faba2"
            }
          },
          "metadata": {}
        },
        {
          "output_type": "stream",
          "name": "stderr",
          "text": [
            "Some weights of DistilBertForSequenceClassification were not initialized from the model checkpoint at distilbert-base-uncased and are newly initialized: ['classifier.bias', 'classifier.weight', 'pre_classifier.bias', 'pre_classifier.weight']\n",
            "You should probably TRAIN this model on a down-stream task to be able to use it for predictions and inference.\n"
          ]
        },
        {
          "output_type": "stream",
          "name": "stdout",
          "text": [
            "Epoch: 0, Loss: 1.0935426950454712\n",
            "Epoch: 0, Loss: 1.0614922046661377\n",
            "Epoch: 0, Loss: 1.0466798543930054\n",
            "Epoch: 0, Loss: 1.085990071296692\n",
            "Epoch: 0, Loss: 1.0692627429962158\n",
            "Epoch: 0, Loss: 1.0735899209976196\n",
            "Epoch: 0, Loss: 1.076448678970337\n",
            "Epoch: 0, Loss: 1.0371487140655518\n",
            "Epoch: 0, Loss: 1.0755159854888916\n",
            "Epoch: 0, Loss: 1.0000288486480713\n",
            "Epoch: 0, Loss: 0.9884061813354492\n",
            "Epoch: 0, Loss: 1.036946415901184\n",
            "Epoch: 0, Loss: 1.033665657043457\n",
            "Epoch: 0, Loss: 0.986358106136322\n",
            "Epoch: 0, Loss: 1.024365782737732\n",
            "Epoch: 0, Loss: 1.0752179622650146\n",
            "Epoch: 0, Loss: 1.059245228767395\n",
            "Epoch: 0, Loss: 1.0536067485809326\n",
            "Epoch: 0, Loss: 0.9592877626419067\n",
            "Epoch: 0, Loss: 1.0242420434951782\n",
            "Epoch: 0, Loss: 0.9543597102165222\n",
            "Epoch: 0, Loss: 0.9993939399719238\n",
            "Epoch: 0, Loss: 0.9037760496139526\n",
            "Epoch: 0, Loss: 0.9590025544166565\n",
            "Epoch: 0, Loss: 0.9273962378501892\n",
            "Epoch: 0, Loss: 1.0248816013336182\n",
            "Epoch: 0, Loss: 1.0642892122268677\n",
            "Epoch: 0, Loss: 1.0227546691894531\n",
            "Epoch: 0, Loss: 0.9836786985397339\n",
            "Epoch: 0, Loss: 0.9653645157814026\n",
            "Epoch: 0, Loss: 1.053321361541748\n",
            "Epoch: 0, Loss: 1.0187156200408936\n"
          ]
        }
      ]
    },
    {
      "cell_type": "markdown",
      "source": [
        "## 5. Évaluation des résultats"
      ],
      "metadata": {
        "id": "QXv4AxfdPpM6"
      }
    },
    {
      "cell_type": "code",
      "source": [
        "# Préparation des données de test\n",
        "from sklearn.model_selection import train_test_split\n",
        "\n",
        "# Séparer les données en ensembles d'entraînement et de test\n",
        "train_df, test_df = train_test_split(df, test_size=0.2, random_state=42)\n",
        "\n",
        "# Préparer les données de test\n",
        "test_tweets = test_df['tweet'].values\n",
        "test_labels = test_df['sentiment_label'].values\n",
        "\n",
        "test_dataset = TweetDataset(test_tweets, test_labels, tokenizer, MAX_LEN)\n",
        "test_loader = DataLoader(test_dataset, batch_size=32, shuffle=False)\n"
      ],
      "metadata": {
        "id": "r_lK5E3bRCgQ"
      },
      "execution_count": 51,
      "outputs": []
    },
    {
      "cell_type": "code",
      "source": [
        "from sklearn.metrics import confusion_matrix\n",
        "import seaborn as sns\n",
        "\n",
        "# Fonction pour afficher la matrice de confusion\n",
        "def plot_confusion_matrix(y_test, y_pred, title):\n",
        "    cm = confusion_matrix(y_test, y_pred)\n",
        "    plt.figure(figsize=(6, 4))\n",
        "    sns.heatmap(cm, annot=True, fmt='d', cmap=\"Blues\", xticklabels=[\"Non Haineux\", \"Haineux\"], yticklabels=[\"Non Haineux\", \"Haineux\"])\n",
        "    plt.title(title)\n",
        "    plt.xlabel(\"Prédictions\")\n",
        "    plt.ylabel(\"Vérités\")\n",
        "    plt.show()\n",
        "\n",
        "# Matrice pour Naïve Bayes\n",
        "plot_confusion_matrix(y_test, y_pred_nb, \"Matrice de Confusion - Naïve Bayes\")\n",
        "\n",
        "# Matrice pour Régression Logistique\n",
        "plot_confusion_matrix(y_test, y_pred_logistic, \"Matrice de Confusion - Régression Logistique\")\n",
        "\n",
        "# Matrice pour SVM\n",
        "plot_confusion_matrix(y_test, y_pred_svm, \"Matrice de Confusion - SVM\")\n",
        "\n",
        "# Matrice de confusion pour l'Arbre de Décision\n",
        "plot_confusion_matrix(y_test, y_pred_tree, \"Matrice de Confusion - Arbre de Décision\")\n",
        "\n",
        "# Matrice de confusion pour LSTM Model\n",
        "plot_confusion_matrix(y_test, y_pred_svm, \"Matrice de Confusion - LSTM Model\")\n",
        "\n"
      ],
      "metadata": {
        "colab": {
          "base_uri": "https://localhost:8080/",
          "height": 1000
        },
        "id": "7aSOMuDSVsgZ",
        "outputId": "6ab66b7f-a04e-4634-a245-23649b151031"
      },
      "execution_count": 101,
      "outputs": [
        {
          "output_type": "display_data",
          "data": {
            "text/plain": [
              "<Figure size 600x400 with 2 Axes>"
            ],
            "image/png": "[encoded data removed]"
          },
          "metadata": {}
        },
        {
          "output_type": "display_data",
          "data": {
            "text/plain": [
              "<Figure size 600x400 with 2 Axes>"
            ],
            "image/png": "[encoded data removed]"
          },
          "metadata": {}
        },
        {
          "output_type": "display_data",
          "data": {
            "text/plain": [
              "<Figure size 600x400 with 2 Axes>"
            ],
            "image/png": "[encoded data removed]"
          },
          "metadata": {}
        },
        {
          "output_type": "display_data",
          "data": {
            "text/plain": [
              "<Figure size 600x400 with 2 Axes>"
            ],
            "image/png": "[encoded data removed]"
          },
          "metadata": {}
        },
        {
          "output_type": "display_data",
          "data": {
            "text/plain": [
              "<Figure size 600x400 with 2 Axes>"
            ],
            "image/png": "[encoded data removed]"
          },
          "metadata": {}
        }
      ]
    },
    {
      "cell_type": "markdown",
      "source": [
        "**Classification des Tweets en Discours Haineux à l'Aide de TF-IDF et Régression Logistique pour le DataFrame test.csv**"
      ],
      "metadata": {
        "id": "m5xSVjNqUfjp"
      }
    },
    {
      "cell_type": "code",
      "source": [
        "import pandas as pd\n",
        "import joblib\n",
        "\n",
        "# Charger le vectoriseur et le modèle\n",
        "vectorizer = joblib.load(\"tfidf_vectorizer.pkl\")\n",
        "model = joblib.load(\"regression_logistique_discours_haineux.pkl\")\n",
        "\n",
        "# Définir une fonction de prétraitement (si nécessaire)\n",
        "def preprocess_text(text):\n",
        "    # Exemple simple : convertir en minuscules et supprimer les espaces superflus\n",
        "    return text.lower().strip()\n",
        "\n",
        "# Charger le fichier de test\n",
        "df_test = pd.read_csv('/content/test.csv.zip')\n",
        "\n",
        "# Vérifier si la colonne 'tweet' existe\n",
        "if 'tweet' not in df_test.columns:\n",
        "    raise ValueError(\"La colonne 'tweet' est introuvable dans le fichier d'entrée.\")\n",
        "\n",
        "# Prétraitement des tweets\n",
        "df_test['processed_tweet'] = df_test['tweet'].apply(preprocess_text)\n",
        "\n",
        "# Vectorisation TF-IDF\n",
        "X_test_tfidf = vectorizer.transform(df_test['processed_tweet'])\n",
        "\n",
        "# Prédictions\n",
        "df_test['prediction'] = model.predict(X_test_tfidf)\n",
        "\n",
        "# Sauvegarder les résultats\n",
        "output_file = 'resultats_predictions.csv'\n",
        "df_test.to_csv(output_file, index=False)\n",
        "print(f\"Prédictions sauvegardées dans '{output_file}'.\")\n",
        "\n",
        "# Afficher un aperçu des résultats\n",
        "print(df_test[['tweet', 'prediction']].head())\n"
      ],
      "metadata": {
        "colab": {
          "base_uri": "https://localhost:8080/"
        },
        "id": "nVFsBRvg5kp9",
        "outputId": "3c0c97c0-1793-4e73-c4c3-3f20e4298515"
      },
      "execution_count": 95,
      "outputs": [
        {
          "output_type": "stream",
          "name": "stdout",
          "text": [
            "Prédictions sauvegardées dans 'resultats_predictions.csv'.\n",
            "                                               tweet  prediction\n",
            "0  #studiolife #aislife #requires #passion #dedic...           1\n",
            "1   @user #white #supremacists want everyone to s...           0\n",
            "2  safe ways to heal your #acne!!    #altwaystohe...           0\n",
            "3  is the hp and the cursed child book up for res...           1\n",
            "4    3rd #bihday to my amazing, hilarious #nephew...           0\n"
          ]
        }
      ]
    }
  ],
  "metadata": {
    "colab": {
      "provenance": []
    },
    "kernelspec": {
      "display_name": "Python 3",
      "name": "python3"
    },
    "language_info": {
      "name": "python"
    },
    "widgets": {
      "application/vnd.jupyter.widget-state+json": {
        "283403fb13f442588aca1e4f7c7a1eba": {
          "model_module": "@jupyter-widgets/controls",
          "model_name": "HBoxModel",
          "model_module_version": "1.5.0",
          "state": {
            "_dom_classes": [],
            "_model_module": "@jupyter-widgets/controls",
            "_model_module_version": "1.5.0",
            "_model_name": "HBoxModel",
            "_view_count": null,
            "_view_module": "@jupyter-widgets/controls",
            "_view_module_version": "1.5.0",
            "_view_name": "HBoxView",
            "box_style": "",
            "children": [
              "IPY_MODEL_90e5d47be344449a887905036c5bace8",
              "IPY_MODEL_d5ba8fa799084f518cd086e8e9f2198a",
              "IPY_MODEL_acd58e17d2114710bfde8d76033894d3"
            ],
            "layout": "IPY_MODEL_b131b316ce6847838efa2af9e6c1d598"
          }
        },
        "90e5d47be344449a887905036c5bace8": {
          "model_module": "@jupyter-widgets/controls",
          "model_name": "HTMLModel",
          "model_module_version": "1.5.0",
          "state": {
            "_dom_classes": [],
            "_model_module": "@jupyter-widgets/controls",
            "_model_module_version": "1.5.0",
            "_model_name": "HTMLModel",
            "_view_count": null,
            "_view_module": "@jupyter-widgets/controls",
            "_view_module_version": "1.5.0",
            "_view_name": "HTMLView",
            "description": "",
            "description_tooltip": null,
            "layout": "IPY_MODEL_56e32e592a9a4ab08c45432e76d1cb8e",
            "placeholder": "​",
            "style": "IPY_MODEL_93ef9b6fd6ab451cb6446f5cdfd47735",
            "value": "tokenizer_config.json: 100%"
          }
        },
        "d5ba8fa799084f518cd086e8e9f2198a": {
          "model_module": "@jupyter-widgets/controls",
          "model_name": "FloatProgressModel",
          "model_module_version": "1.5.0",
          "state": {
            "_dom_classes": [],
            "_model_module": "@jupyter-widgets/controls",
            "_model_module_version": "1.5.0",
            "_model_name": "FloatProgressModel",
            "_view_count": null,
            "_view_module": "@jupyter-widgets/controls",
            "_view_module_version": "1.5.0",
            "_view_name": "ProgressView",
            "bar_style": "success",
            "description": "",
            "description_tooltip": null,
            "layout": "IPY_MODEL_252aadaea9714409a9845f748086c756",
            "max": 48,
            "min": 0,
            "orientation": "horizontal",
            "style": "IPY_MODEL_8fa91232df9148d1881c613e6f6cfec5",
            "value": 48
          }
        },
        "acd58e17d2114710bfde8d76033894d3": {
          "model_module": "@jupyter-widgets/controls",
          "model_name": "HTMLModel",
          "model_module_version": "1.5.0",
          "state": {
            "_dom_classes": [],
            "_model_module": "@jupyter-widgets/controls",
            "_model_module_version": "1.5.0",
            "_model_name": "HTMLModel",
            "_view_count": null,
            "_view_module": "@jupyter-widgets/controls",
            "_view_module_version": "1.5.0",
            "_view_name": "HTMLView",
            "description": "",
            "description_tooltip": null,
            "layout": "IPY_MODEL_4f23247ecc17412b89aebff9937c1075",
            "placeholder": "​",
            "style": "IPY_MODEL_7f8262b45ec0492391017618ee6b2e77",
            "value": " 48.0/48.0 [00:00&lt;00:00, 2.71kB/s]"
          }
        },
        "b131b316ce6847838efa2af9e6c1d598": {
          "model_module": "@jupyter-widgets/base",
          "model_name": "LayoutModel",
          "model_module_version": "1.2.0",
          "state": {
            "_model_module": "@jupyter-widgets/base",
            "_model_module_version": "1.2.0",
            "_model_name": "LayoutModel",
            "_view_count": null,
            "_view_module": "@jupyter-widgets/base",
            "_view_module_version": "1.2.0",
            "_view_name": "LayoutView",
            "align_content": null,
            "align_items": null,
            "align_self": null,
            "border": null,
            "bottom": null,
            "display": null,
            "flex": null,
            "flex_flow": null,
            "grid_area": null,
            "grid_auto_columns": null,
            "grid_auto_flow": null,
            "grid_auto_rows": null,
            "grid_column": null,
            "grid_gap": null,
            "grid_row": null,
            "grid_template_areas": null,
            "grid_template_columns": null,
            "grid_template_rows": null,
            "height": null,
            "justify_content": null,
            "justify_items": null,
            "left": null,
            "margin": null,
            "max_height": null,
            "max_width": null,
            "min_height": null,
            "min_width": null,
            "object_fit": null,
            "object_position": null,
            "order": null,
            "overflow": null,
            "overflow_x": null,
            "overflow_y": null,
            "padding": null,
            "right": null,
            "top": null,
            "visibility": null,
            "width": null
          }
        },
        "56e32e592a9a4ab08c45432e76d1cb8e": {
          "model_module": "@jupyter-widgets/base",
          "model_name": "LayoutModel",
          "model_module_version": "1.2.0",
          "state": {
            "_model_module": "@jupyter-widgets/base",
            "_model_module_version": "1.2.0",
            "_model_name": "LayoutModel",
            "_view_count": null,
            "_view_module": "@jupyter-widgets/base",
            "_view_module_version": "1.2.0",
            "_view_name": "LayoutView",
            "align_content": null,
            "align_items": null,
            "align_self": null,
            "border": null,
            "bottom": null,
            "display": null,
            "flex": null,
            "flex_flow": null,
            "grid_area": null,
            "grid_auto_columns": null,
            "grid_auto_flow": null,
            "grid_auto_rows": null,
            "grid_column": null,
            "grid_gap": null,
            "grid_row": null,
            "grid_template_areas": null,
            "grid_template_columns": null,
            "grid_template_rows": null,
            "height": null,
            "justify_content": null,
            "justify_items": null,
            "left": null,
            "margin": null,
            "max_height": null,
            "max_width": null,
            "min_height": null,
            "min_width": null,
            "object_fit": null,
            "object_position": null,
            "order": null,
            "overflow": null,
            "overflow_x": null,
            "overflow_y": null,
            "padding": null,
            "right": null,
            "top": null,
            "visibility": null,
            "width": null
          }
        },
        "93ef9b6fd6ab451cb6446f5cdfd47735": {
          "model_module": "@jupyter-widgets/controls",
          "model_name": "DescriptionStyleModel",
          "model_module_version": "1.5.0",
          "state": {
            "_model_module": "@jupyter-widgets/controls",
            "_model_module_version": "1.5.0",
            "_model_name": "DescriptionStyleModel",
            "_view_count": null,
            "_view_module": "@jupyter-widgets/base",
            "_view_module_version": "1.2.0",
            "_view_name": "StyleView",
            "description_width": ""
          }
        },
        "252aadaea9714409a9845f748086c756": {
          "model_module": "@jupyter-widgets/base",
          "model_name": "LayoutModel",
          "model_module_version": "1.2.0",
          "state": {
            "_model_module": "@jupyter-widgets/base",
            "_model_module_version": "1.2.0",
            "_model_name": "LayoutModel",
            "_view_count": null,
            "_view_module": "@jupyter-widgets/base",
            "_view_module_version": "1.2.0",
            "_view_name": "LayoutView",
            "align_content": null,
            "align_items": null,
            "align_self": null,
            "border": null,
            "bottom": null,
            "display": null,
            "flex": null,
            "flex_flow": null,
            "grid_area": null,
            "grid_auto_columns": null,
            "grid_auto_flow": null,
            "grid_auto_rows": null,
            "grid_column": null,
            "grid_gap": null,
            "grid_row": null,
            "grid_template_areas": null,
            "grid_template_columns": null,
            "grid_template_rows": null,
            "height": null,
            "justify_content": null,
            "justify_items": null,
            "left": null,
            "margin": null,
            "max_height": null,
            "max_width": null,
            "min_height": null,
            "min_width": null,
            "object_fit": null,
            "object_position": null,
            "order": null,
            "overflow": null,
            "overflow_x": null,
            "overflow_y": null,
            "padding": null,
            "right": null,
            "top": null,
            "visibility": null,
            "width": null
          }
        },
        "8fa91232df9148d1881c613e6f6cfec5": {
          "model_module": "@jupyter-widgets/controls",
          "model_name": "ProgressStyleModel",
          "model_module_version": "1.5.0",
          "state": {
            "_model_module": "@jupyter-widgets/controls",
            "_model_module_version": "1.5.0",
            "_model_name": "ProgressStyleModel",
            "_view_count": null,
            "_view_module": "@jupyter-widgets/base",
            "_view_module_version": "1.2.0",
            "_view_name": "StyleView",
            "bar_color": null,
            "description_width": ""
          }
        },
        "4f23247ecc17412b89aebff9937c1075": {
          "model_module": "@jupyter-widgets/base",
          "model_name": "LayoutModel",
          "model_module_version": "1.2.0",
          "state": {
            "_model_module": "@jupyter-widgets/base",
            "_model_module_version": "1.2.0",
            "_model_name": "LayoutModel",
            "_view_count": null,
            "_view_module": "@jupyter-widgets/base",
            "_view_module_version": "1.2.0",
            "_view_name": "LayoutView",
            "align_content": null,
            "align_items": null,
            "align_self": null,
            "border": null,
            "bottom": null,
            "display": null,
            "flex": null,
            "flex_flow": null,
            "grid_area": null,
            "grid_auto_columns": null,
            "grid_auto_flow": null,
            "grid_auto_rows": null,
            "grid_column": null,
            "grid_gap": null,
            "grid_row": null,
            "grid_template_areas": null,
            "grid_template_columns": null,
            "grid_template_rows": null,
            "height": null,
            "justify_content": null,
            "justify_items": null,
            "left": null,
            "margin": null,
            "max_height": null,
            "max_width": null,
            "min_height": null,
            "min_width": null,
            "object_fit": null,
            "object_position": null,
            "order": null,
            "overflow": null,
            "overflow_x": null,
            "overflow_y": null,
            "padding": null,
            "right": null,
            "top": null,
            "visibility": null,
            "width": null
          }
        },
        "7f8262b45ec0492391017618ee6b2e77": {
          "model_module": "@jupyter-widgets/controls",
          "model_name": "DescriptionStyleModel",
          "model_module_version": "1.5.0",
          "state": {
            "_model_module": "@jupyter-widgets/controls",
            "_model_module_version": "1.5.0",
            "_model_name": "DescriptionStyleModel",
            "_view_count": null,
            "_view_module": "@jupyter-widgets/base",
            "_view_module_version": "1.2.0",
            "_view_name": "StyleView",
            "description_width": ""
          }
        },
        "6a9a686fb9894c60bc1e163d5552a779": {
          "model_module": "@jupyter-widgets/controls",
          "model_name": "HBoxModel",
          "model_module_version": "1.5.0",
          "state": {
            "_dom_classes": [],
            "_model_module": "@jupyter-widgets/controls",
            "_model_module_version": "1.5.0",
            "_model_name": "HBoxModel",
            "_view_count": null,
            "_view_module": "@jupyter-widgets/controls",
            "_view_module_version": "1.5.0",
            "_view_name": "HBoxView",
            "box_style": "",
            "children": [
              "IPY_MODEL_25034bfc328b45f59368d85eca09ca3f",
              "IPY_MODEL_dafe03adb2654d87928bb73cb77ee923",
              "IPY_MODEL_c57786d285e94940be87d58f946ecf26"
            ],
            "layout": "IPY_MODEL_baec5555e06044e7ac1988b228ca8c32"
          }
        },
        "25034bfc328b45f59368d85eca09ca3f": {
          "model_module": "@jupyter-widgets/controls",
          "model_name": "HTMLModel",
          "model_module_version": "1.5.0",
          "state": {
            "_dom_classes": [],
            "_model_module": "@jupyter-widgets/controls",
            "_model_module_version": "1.5.0",
            "_model_name": "HTMLModel",
            "_view_count": null,
            "_view_module": "@jupyter-widgets/controls",
            "_view_module_version": "1.5.0",
            "_view_name": "HTMLView",
            "description": "",
            "description_tooltip": null,
            "layout": "IPY_MODEL_f9377fb06bfc434c91b628d7980c4878",
            "placeholder": "​",
            "style": "IPY_MODEL_911ad7ac3a18447c8f42e502c97a0373",
            "value": "vocab.txt: 100%"
          }
        },
        "dafe03adb2654d87928bb73cb77ee923": {
          "model_module": "@jupyter-widgets/controls",
          "model_name": "FloatProgressModel",
          "model_module_version": "1.5.0",
          "state": {
            "_dom_classes": [],
            "_model_module": "@jupyter-widgets/controls",
            "_model_module_version": "1.5.0",
            "_model_name": "FloatProgressModel",
            "_view_count": null,
            "_view_module": "@jupyter-widgets/controls",
            "_view_module_version": "1.5.0",
            "_view_name": "ProgressView",
            "bar_style": "success",
            "description": "",
            "description_tooltip": null,
            "layout": "IPY_MODEL_c3211401ef7c4135bf8521a42d8f178c",
            "max": 231508,
            "min": 0,
            "orientation": "horizontal",
            "style": "IPY_MODEL_706d24bf4dda4dd3a57a3f1a0cd32dd4",
            "value": 231508
          }
        },
        "c57786d285e94940be87d58f946ecf26": {
          "model_module": "@jupyter-widgets/controls",
          "model_name": "HTMLModel",
          "model_module_version": "1.5.0",
          "state": {
            "_dom_classes": [],
            "_model_module": "@jupyter-widgets/controls",
            "_model_module_version": "1.5.0",
            "_model_name": "HTMLModel",
            "_view_count": null,
            "_view_module": "@jupyter-widgets/controls",
            "_view_module_version": "1.5.0",
            "_view_name": "HTMLView",
            "description": "",
            "description_tooltip": null,
            "layout": "IPY_MODEL_d98faaca08684e6cb7a07caebd03737b",
            "placeholder": "​",
            "style": "IPY_MODEL_8bff9794072b4c15a2a7858671bcc4fd",
            "value": " 232k/232k [00:00&lt;00:00, 4.82MB/s]"
          }
        },
        "baec5555e06044e7ac1988b228ca8c32": {
          "model_module": "@jupyter-widgets/base",
          "model_name": "LayoutModel",
          "model_module_version": "1.2.0",
          "state": {
            "_model_module": "@jupyter-widgets/base",
            "_model_module_version": "1.2.0",
            "_model_name": "LayoutModel",
            "_view_count": null,
            "_view_module": "@jupyter-widgets/base",
            "_view_module_version": "1.2.0",
            "_view_name": "LayoutView",
            "align_content": null,
            "align_items": null,
            "align_self": null,
            "border": null,
            "bottom": null,
            "display": null,
            "flex": null,
            "flex_flow": null,
            "grid_area": null,
            "grid_auto_columns": null,
            "grid_auto_flow": null,
            "grid_auto_rows": null,
            "grid_column": null,
            "grid_gap": null,
            "grid_row": null,
            "grid_template_areas": null,
            "grid_template_columns": null,
            "grid_template_rows": null,
            "height": null,
            "justify_content": null,
            "justify_items": null,
            "left": null,
            "margin": null,
            "max_height": null,
            "max_width": null,
            "min_height": null,
            "min_width": null,
            "object_fit": null,
            "object_position": null,
            "order": null,
            "overflow": null,
            "overflow_x": null,
            "overflow_y": null,
            "padding": null,
            "right": null,
            "top": null,
            "visibility": null,
            "width": null
          }
        },
        "f9377fb06bfc434c91b628d7980c4878": {
          "model_module": "@jupyter-widgets/base",
          "model_name": "LayoutModel",
          "model_module_version": "1.2.0",
          "state": {
            "_model_module": "@jupyter-widgets/base",
            "_model_module_version": "1.2.0",
            "_model_name": "LayoutModel",
            "_view_count": null,
            "_view_module": "@jupyter-widgets/base",
            "_view_module_version": "1.2.0",
            "_view_name": "LayoutView",
            "align_content": null,
            "align_items": null,
            "align_self": null,
            "border": null,
            "bottom": null,
            "display": null,
            "flex": null,
            "flex_flow": null,
            "grid_area": null,
            "grid_auto_columns": null,
            "grid_auto_flow": null,
            "grid_auto_rows": null,
            "grid_column": null,
            "grid_gap": null,
            "grid_row": null,
            "grid_template_areas": null,
            "grid_template_columns": null,
            "grid_template_rows": null,
            "height": null,
            "justify_content": null,
            "justify_items": null,
            "left": null,
            "margin": null,
            "max_height": null,
            "max_width": null,
            "min_height": null,
            "min_width": null,
            "object_fit": null,
            "object_position": null,
            "order": null,
            "overflow": null,
            "overflow_x": null,
            "overflow_y": null,
            "padding": null,
            "right": null,
            "top": null,
            "visibility": null,
            "width": null
          }
        },
        "911ad7ac3a18447c8f42e502c97a0373": {
          "model_module": "@jupyter-widgets/controls",
          "model_name": "DescriptionStyleModel",
          "model_module_version": "1.5.0",
          "state": {
            "_model_module": "@jupyter-widgets/controls",
            "_model_module_version": "1.5.0",
            "_model_name": "DescriptionStyleModel",
            "_view_count": null,
            "_view_module": "@jupyter-widgets/base",
            "_view_module_version": "1.2.0",
            "_view_name": "StyleView",
            "description_width": ""
          }
        },
        "c3211401ef7c4135bf8521a42d8f178c": {
          "model_module": "@jupyter-widgets/base",
          "model_name": "LayoutModel",
          "model_module_version": "1.2.0",
          "state": {
            "_model_module": "@jupyter-widgets/base",
            "_model_module_version": "1.2.0",
            "_model_name": "LayoutModel",
            "_view_count": null,
            "_view_module": "@jupyter-widgets/base",
            "_view_module_version": "1.2.0",
            "_view_name": "LayoutView",
            "align_content": null,
            "align_items": null,
            "align_self": null,
            "border": null,
            "bottom": null,
            "display": null,
            "flex": null,
            "flex_flow": null,
            "grid_area": null,
            "grid_auto_columns": null,
            "grid_auto_flow": null,
            "grid_auto_rows": null,
            "grid_column": null,
            "grid_gap": null,
            "grid_row": null,
            "grid_template_areas": null,
            "grid_template_columns": null,
            "grid_template_rows": null,
            "height": null,
            "justify_content": null,
            "justify_items": null,
            "left": null,
            "margin": null,
            "max_height": null,
            "max_width": null,
            "min_height": null,
            "min_width": null,
            "object_fit": null,
            "object_position": null,
            "order": null,
            "overflow": null,
            "overflow_x": null,
            "overflow_y": null,
            "padding": null,
            "right": null,
            "top": null,
            "visibility": null,
            "width": null
          }
        },
        "706d24bf4dda4dd3a57a3f1a0cd32dd4": {
          "model_module": "@jupyter-widgets/controls",
          "model_name": "ProgressStyleModel",
          "model_module_version": "1.5.0",
          "state": {
            "_model_module": "@jupyter-widgets/controls",
            "_model_module_version": "1.5.0",
            "_model_name": "ProgressStyleModel",
            "_view_count": null,
            "_view_module": "@jupyter-widgets/base",
            "_view_module_version": "1.2.0",
            "_view_name": "StyleView",
            "bar_color": null,
            "description_width": ""
          }
        },
        "d98faaca08684e6cb7a07caebd03737b": {
          "model_module": "@jupyter-widgets/base",
          "model_name": "LayoutModel",
          "model_module_version": "1.2.0",
          "state": {
            "_model_module": "@jupyter-widgets/base",
            "_model_module_version": "1.2.0",
            "_model_name": "LayoutModel",
            "_view_count": null,
            "_view_module": "@jupyter-widgets/base",
            "_view_module_version": "1.2.0",
            "_view_name": "LayoutView",
            "align_content": null,
            "align_items": null,
            "align_self": null,
            "border": null,
            "bottom": null,
            "display": null,
            "flex": null,
            "flex_flow": null,
            "grid_area": null,
            "grid_auto_columns": null,
            "grid_auto_flow": null,
            "grid_auto_rows": null,
            "grid_column": null,
            "grid_gap": null,
            "grid_row": null,
            "grid_template_areas": null,
            "grid_template_columns": null,
            "grid_template_rows": null,
            "height": null,
            "justify_content": null,
            "justify_items": null,
            "left": null,
            "margin": null,
            "max_height": null,
            "max_width": null,
            "min_height": null,
            "min_width": null,
            "object_fit": null,
            "object_position": null,
            "order": null,
            "overflow": null,
            "overflow_x": null,
            "overflow_y": null,
            "padding": null,
            "right": null,
            "top": null,
            "visibility": null,
            "width": null
          }
        },
        "8bff9794072b4c15a2a7858671bcc4fd": {
          "model_module": "@jupyter-widgets/controls",
          "model_name": "DescriptionStyleModel",
          "model_module_version": "1.5.0",
          "state": {
            "_model_module": "@jupyter-widgets/controls",
            "_model_module_version": "1.5.0",
            "_model_name": "DescriptionStyleModel",
            "_view_count": null,
            "_view_module": "@jupyter-widgets/base",
            "_view_module_version": "1.2.0",
            "_view_name": "StyleView",
            "description_width": ""
          }
        },
        "6c0fca89e79744be94d7a08047f15781": {
          "model_module": "@jupyter-widgets/controls",
          "model_name": "HBoxModel",
          "model_module_version": "1.5.0",
          "state": {
            "_dom_classes": [],
            "_model_module": "@jupyter-widgets/controls",
            "_model_module_version": "1.5.0",
            "_model_name": "HBoxModel",
            "_view_count": null,
            "_view_module": "@jupyter-widgets/controls",
            "_view_module_version": "1.5.0",
            "_view_name": "HBoxView",
            "box_style": "",
            "children": [
              "IPY_MODEL_aa7914e576794ab48920a4ba3aeaf96e",
              "IPY_MODEL_d7eb224621b7401dac2bb332e4f4dfeb",
              "IPY_MODEL_59ca736f12de436bab1a5fd63562a818"
            ],
            "layout": "IPY_MODEL_6013204d6c83482bafc166439ef2776f"
          }
        },
        "aa7914e576794ab48920a4ba3aeaf96e": {
          "model_module": "@jupyter-widgets/controls",
          "model_name": "HTMLModel",
          "model_module_version": "1.5.0",
          "state": {
            "_dom_classes": [],
            "_model_module": "@jupyter-widgets/controls",
            "_model_module_version": "1.5.0",
            "_model_name": "HTMLModel",
            "_view_count": null,
            "_view_module": "@jupyter-widgets/controls",
            "_view_module_version": "1.5.0",
            "_view_name": "HTMLView",
            "description": "",
            "description_tooltip": null,
            "layout": "IPY_MODEL_a9e67618f6cd4419b039e47ef506405d",
            "placeholder": "​",
            "style": "IPY_MODEL_edeeba59340e408fb3e3a8a18c1998bf",
            "value": "tokenizer.json: 100%"
          }
        },
        "d7eb224621b7401dac2bb332e4f4dfeb": {
          "model_module": "@jupyter-widgets/controls",
          "model_name": "FloatProgressModel",
          "model_module_version": "1.5.0",
          "state": {
            "_dom_classes": [],
            "_model_module": "@jupyter-widgets/controls",
            "_model_module_version": "1.5.0",
            "_model_name": "FloatProgressModel",
            "_view_count": null,
            "_view_module": "@jupyter-widgets/controls",
            "_view_module_version": "1.5.0",
            "_view_name": "ProgressView",
            "bar_style": "success",
            "description": "",
            "description_tooltip": null,
            "layout": "IPY_MODEL_777bb815715e486f91fc48e7c4ad33c9",
            "max": 466062,
            "min": 0,
            "orientation": "horizontal",
            "style": "IPY_MODEL_6efd4e825c1d422eaa1250d636f01eb3",
            "value": 466062
          }
        },
        "59ca736f12de436bab1a5fd63562a818": {
          "model_module": "@jupyter-widgets/controls",
          "model_name": "HTMLModel",
          "model_module_version": "1.5.0",
          "state": {
            "_dom_classes": [],
            "_model_module": "@jupyter-widgets/controls",
            "_model_module_version": "1.5.0",
            "_model_name": "HTMLModel",
            "_view_count": null,
            "_view_module": "@jupyter-widgets/controls",
            "_view_module_version": "1.5.0",
            "_view_name": "HTMLView",
            "description": "",
            "description_tooltip": null,
            "layout": "IPY_MODEL_d010a8fa14164de6b611c641d93fbf05",
            "placeholder": "​",
            "style": "IPY_MODEL_b28359545a5e44e18151cfad3e0f3b10",
            "value": " 466k/466k [00:00&lt;00:00, 4.89MB/s]"
          }
        },
        "6013204d6c83482bafc166439ef2776f": {
          "model_module": "@jupyter-widgets/base",
          "model_name": "LayoutModel",
          "model_module_version": "1.2.0",
          "state": {
            "_model_module": "@jupyter-widgets/base",
            "_model_module_version": "1.2.0",
            "_model_name": "LayoutModel",
            "_view_count": null,
            "_view_module": "@jupyter-widgets/base",
            "_view_module_version": "1.2.0",
            "_view_name": "LayoutView",
            "align_content": null,
            "align_items": null,
            "align_self": null,
            "border": null,
            "bottom": null,
            "display": null,
            "flex": null,
            "flex_flow": null,
            "grid_area": null,
            "grid_auto_columns": null,
            "grid_auto_flow": null,
            "grid_auto_rows": null,
            "grid_column": null,
            "grid_gap": null,
            "grid_row": null,
            "grid_template_areas": null,
            "grid_template_columns": null,
            "grid_template_rows": null,
            "height": null,
            "justify_content": null,
            "justify_items": null,
            "left": null,
            "margin": null,
            "max_height": null,
            "max_width": null,
            "min_height": null,
            "min_width": null,
            "object_fit": null,
            "object_position": null,
            "order": null,
            "overflow": null,
            "overflow_x": null,
            "overflow_y": null,
            "padding": null,
            "right": null,
            "top": null,
            "visibility": null,
            "width": null
          }
        },
        "a9e67618f6cd4419b039e47ef506405d": {
          "model_module": "@jupyter-widgets/base",
          "model_name": "LayoutModel",
          "model_module_version": "1.2.0",
          "state": {
            "_model_module": "@jupyter-widgets/base",
            "_model_module_version": "1.2.0",
            "_model_name": "LayoutModel",
            "_view_count": null,
            "_view_module": "@jupyter-widgets/base",
            "_view_module_version": "1.2.0",
            "_view_name": "LayoutView",
            "align_content": null,
            "align_items": null,
            "align_self": null,
            "border": null,
            "bottom": null,
            "display": null,
            "flex": null,
            "flex_flow": null,
            "grid_area": null,
            "grid_auto_columns": null,
            "grid_auto_flow": null,
            "grid_auto_rows": null,
            "grid_column": null,
            "grid_gap": null,
            "grid_row": null,
            "grid_template_areas": null,
            "grid_template_columns": null,
            "grid_template_rows": null,
            "height": null,
            "justify_content": null,
            "justify_items": null,
            "left": null,
            "margin": null,
            "max_height": null,
            "max_width": null,
            "min_height": null,
            "min_width": null,
            "object_fit": null,
            "object_position": null,
            "order": null,
            "overflow": null,
            "overflow_x": null,
            "overflow_y": null,
            "padding": null,
            "right": null,
            "top": null,
            "visibility": null,
            "width": null
          }
        },
        "edeeba59340e408fb3e3a8a18c1998bf": {
          "model_module": "@jupyter-widgets/controls",
          "model_name": "DescriptionStyleModel",
          "model_module_version": "1.5.0",
          "state": {
            "_model_module": "@jupyter-widgets/controls",
            "_model_module_version": "1.5.0",
            "_model_name": "DescriptionStyleModel",
            "_view_count": null,
            "_view_module": "@jupyter-widgets/base",
            "_view_module_version": "1.2.0",
            "_view_name": "StyleView",
            "description_width": ""
          }
        },
        "777bb815715e486f91fc48e7c4ad33c9": {
          "model_module": "@jupyter-widgets/base",
          "model_name": "LayoutModel",
          "model_module_version": "1.2.0",
          "state": {
            "_model_module": "@jupyter-widgets/base",
            "_model_module_version": "1.2.0",
            "_model_name": "LayoutModel",
            "_view_count": null,
            "_view_module": "@jupyter-widgets/base",
            "_view_module_version": "1.2.0",
            "_view_name": "LayoutView",
            "align_content": null,
            "align_items": null,
            "align_self": null,
            "border": null,
            "bottom": null,
            "display": null,
            "flex": null,
            "flex_flow": null,
            "grid_area": null,
            "grid_auto_columns": null,
            "grid_auto_flow": null,
            "grid_auto_rows": null,
            "grid_column": null,
            "grid_gap": null,
            "grid_row": null,
            "grid_template_areas": null,
            "grid_template_columns": null,
            "grid_template_rows": null,
            "height": null,
            "justify_content": null,
            "justify_items": null,
            "left": null,
            "margin": null,
            "max_height": null,
            "max_width": null,
            "min_height": null,
            "min_width": null,
            "object_fit": null,
            "object_position": null,
            "order": null,
            "overflow": null,
            "overflow_x": null,
            "overflow_y": null,
            "padding": null,
            "right": null,
            "top": null,
            "visibility": null,
            "width": null
          }
        },
        "6efd4e825c1d422eaa1250d636f01eb3": {
          "model_module": "@jupyter-widgets/controls",
          "model_name": "ProgressStyleModel",
          "model_module_version": "1.5.0",
          "state": {
            "_model_module": "@jupyter-widgets/controls",
            "_model_module_version": "1.5.0",
            "_model_name": "ProgressStyleModel",
            "_view_count": null,
            "_view_module": "@jupyter-widgets/base",
            "_view_module_version": "1.2.0",
            "_view_name": "StyleView",
            "bar_color": null,
            "description_width": ""
          }
        },
        "d010a8fa14164de6b611c641d93fbf05": {
          "model_module": "@jupyter-widgets/base",
          "model_name": "LayoutModel",
          "model_module_version": "1.2.0",
          "state": {
            "_model_module": "@jupyter-widgets/base",
            "_model_module_version": "1.2.0",
            "_model_name": "LayoutModel",
            "_view_count": null,
            "_view_module": "@jupyter-widgets/base",
            "_view_module_version": "1.2.0",
            "_view_name": "LayoutView",
            "align_content": null,
            "align_items": null,
            "align_self": null,
            "border": null,
            "bottom": null,
            "display": null,
            "flex": null,
            "flex_flow": null,
            "grid_area": null,
            "grid_auto_columns": null,
            "grid_auto_flow": null,
            "grid_auto_rows": null,
            "grid_column": null,
            "grid_gap": null,
            "grid_row": null,
            "grid_template_areas": null,
            "grid_template_columns": null,
            "grid_template_rows": null,
            "height": null,
            "justify_content": null,
            "justify_items": null,
            "left": null,
            "margin": null,
            "max_height": null,
            "max_width": null,
            "min_height": null,
            "min_width": null,
            "object_fit": null,
            "object_position": null,
            "order": null,
            "overflow": null,
            "overflow_x": null,
            "overflow_y": null,
            "padding": null,
            "right": null,
            "top": null,
            "visibility": null,
            "width": null
          }
        },
        "b28359545a5e44e18151cfad3e0f3b10": {
          "model_module": "@jupyter-widgets/controls",
          "model_name": "DescriptionStyleModel",
          "model_module_version": "1.5.0",
          "state": {
            "_model_module": "@jupyter-widgets/controls",
            "_model_module_version": "1.5.0",
            "_model_name": "DescriptionStyleModel",
            "_view_count": null,
            "_view_module": "@jupyter-widgets/base",
            "_view_module_version": "1.2.0",
            "_view_name": "StyleView",
            "description_width": ""
          }
        },
        "a52bad3759dd4bfda0cc71ee6f9908a9": {
          "model_module": "@jupyter-widgets/controls",
          "model_name": "HBoxModel",
          "model_module_version": "1.5.0",
          "state": {
            "_dom_classes": [],
            "_model_module": "@jupyter-widgets/controls",
            "_model_module_version": "1.5.0",
            "_model_name": "HBoxModel",
            "_view_count": null,
            "_view_module": "@jupyter-widgets/controls",
            "_view_module_version": "1.5.0",
            "_view_name": "HBoxView",
            "box_style": "",
            "children": [
              "IPY_MODEL_abc8c8fdb13a411f94f7af856132ee34",
              "IPY_MODEL_58d2194df3484f22808d6e721555b972",
              "IPY_MODEL_924d6deaacf941f8adf60b1b1be3c4f9"
            ],
            "layout": "IPY_MODEL_30b7f3fabf4544beb21c25489c271210"
          }
        },
        "abc8c8fdb13a411f94f7af856132ee34": {
          "model_module": "@jupyter-widgets/controls",
          "model_name": "HTMLModel",
          "model_module_version": "1.5.0",
          "state": {
            "_dom_classes": [],
            "_model_module": "@jupyter-widgets/controls",
            "_model_module_version": "1.5.0",
            "_model_name": "HTMLModel",
            "_view_count": null,
            "_view_module": "@jupyter-widgets/controls",
            "_view_module_version": "1.5.0",
            "_view_name": "HTMLView",
            "description": "",
            "description_tooltip": null,
            "layout": "IPY_MODEL_6c6a0d31d3d14f4a820a923d5569b807",
            "placeholder": "​",
            "style": "IPY_MODEL_d8a3806ce78a42a6a18aad35c1cf8601",
            "value": "config.json: 100%"
          }
        },
        "58d2194df3484f22808d6e721555b972": {
          "model_module": "@jupyter-widgets/controls",
          "model_name": "FloatProgressModel",
          "model_module_version": "1.5.0",
          "state": {
            "_dom_classes": [],
            "_model_module": "@jupyter-widgets/controls",
            "_model_module_version": "1.5.0",
            "_model_name": "FloatProgressModel",
            "_view_count": null,
            "_view_module": "@jupyter-widgets/controls",
            "_view_module_version": "1.5.0",
            "_view_name": "ProgressView",
            "bar_style": "success",
            "description": "",
            "description_tooltip": null,
            "layout": "IPY_MODEL_54abd375a5cb406d82a729b0af82509a",
            "max": 483,
            "min": 0,
            "orientation": "horizontal",
            "style": "IPY_MODEL_c3a260e52224407aba92590816c4b9bb",
            "value": 483
          }
        },
        "924d6deaacf941f8adf60b1b1be3c4f9": {
          "model_module": "@jupyter-widgets/controls",
          "model_name": "HTMLModel",
          "model_module_version": "1.5.0",
          "state": {
            "_dom_classes": [],
            "_model_module": "@jupyter-widgets/controls",
            "_model_module_version": "1.5.0",
            "_model_name": "HTMLModel",
            "_view_count": null,
            "_view_module": "@jupyter-widgets/controls",
            "_view_module_version": "1.5.0",
            "_view_name": "HTMLView",
            "description": "",
            "description_tooltip": null,
            "layout": "IPY_MODEL_11aed22c79c14e66a5107b40af9c007e",
            "placeholder": "​",
            "style": "IPY_MODEL_28e441ee12f3404698a0bc3a5df7f219",
            "value": " 483/483 [00:00&lt;00:00, 33.7kB/s]"
          }
        },
        "30b7f3fabf4544beb21c25489c271210": {
          "model_module": "@jupyter-widgets/base",
          "model_name": "LayoutModel",
          "model_module_version": "1.2.0",
          "state": {
            "_model_module": "@jupyter-widgets/base",
            "_model_module_version": "1.2.0",
            "_model_name": "LayoutModel",
            "_view_count": null,
            "_view_module": "@jupyter-widgets/base",
            "_view_module_version": "1.2.0",
            "_view_name": "LayoutView",
            "align_content": null,
            "align_items": null,
            "align_self": null,
            "border": null,
            "bottom": null,
            "display": null,
            "flex": null,
            "flex_flow": null,
            "grid_area": null,
            "grid_auto_columns": null,
            "grid_auto_flow": null,
            "grid_auto_rows": null,
            "grid_column": null,
            "grid_gap": null,
            "grid_row": null,
            "grid_template_areas": null,
            "grid_template_columns": null,
            "grid_template_rows": null,
            "height": null,
            "justify_content": null,
            "justify_items": null,
            "left": null,
            "margin": null,
            "max_height": null,
            "max_width": null,
            "min_height": null,
            "min_width": null,
            "object_fit": null,
            "object_position": null,
            "order": null,
            "overflow": null,
            "overflow_x": null,
            "overflow_y": null,
            "padding": null,
            "right": null,
            "top": null,
            "visibility": null,
            "width": null
          }
        },
        "6c6a0d31d3d14f4a820a923d5569b807": {
          "model_module": "@jupyter-widgets/base",
          "model_name": "LayoutModel",
          "model_module_version": "1.2.0",
          "state": {
            "_model_module": "@jupyter-widgets/base",
            "_model_module_version": "1.2.0",
            "_model_name": "LayoutModel",
            "_view_count": null,
            "_view_module": "@jupyter-widgets/base",
            "_view_module_version": "1.2.0",
            "_view_name": "LayoutView",
            "align_content": null,
            "align_items": null,
            "align_self": null,
            "border": null,
            "bottom": null,
            "display": null,
            "flex": null,
            "flex_flow": null,
            "grid_area": null,
            "grid_auto_columns": null,
            "grid_auto_flow": null,
            "grid_auto_rows": null,
            "grid_column": null,
            "grid_gap": null,
            "grid_row": null,
            "grid_template_areas": null,
            "grid_template_columns": null,
            "grid_template_rows": null,
            "height": null,
            "justify_content": null,
            "justify_items": null,
            "left": null,
            "margin": null,
            "max_height": null,
            "max_width": null,
            "min_height": null,
            "min_width": null,
            "object_fit": null,
            "object_position": null,
            "order": null,
            "overflow": null,
            "overflow_x": null,
            "overflow_y": null,
            "padding": null,
            "right": null,
            "top": null,
            "visibility": null,
            "width": null
          }
        },
        "d8a3806ce78a42a6a18aad35c1cf8601": {
          "model_module": "@jupyter-widgets/controls",
          "model_name": "DescriptionStyleModel",
          "model_module_version": "1.5.0",
          "state": {
            "_model_module": "@jupyter-widgets/controls",
            "_model_module_version": "1.5.0",
            "_model_name": "DescriptionStyleModel",
            "_view_count": null,
            "_view_module": "@jupyter-widgets/base",
            "_view_module_version": "1.2.0",
            "_view_name": "StyleView",
            "description_width": ""
          }
        },
        "54abd375a5cb406d82a729b0af82509a": {
          "model_module": "@jupyter-widgets/base",
          "model_name": "LayoutModel",
          "model_module_version": "1.2.0",
          "state": {
            "_model_module": "@jupyter-widgets/base",
            "_model_module_version": "1.2.0",
            "_model_name": "LayoutModel",
            "_view_count": null,
            "_view_module": "@jupyter-widgets/base",
            "_view_module_version": "1.2.0",
            "_view_name": "LayoutView",
            "align_content": null,
            "align_items": null,
            "align_self": null,
            "border": null,
            "bottom": null,
            "display": null,
            "flex": null,
            "flex_flow": null,
            "grid_area": null,
            "grid_auto_columns": null,
            "grid_auto_flow": null,
            "grid_auto_rows": null,
            "grid_column": null,
            "grid_gap": null,
            "grid_row": null,
            "grid_template_areas": null,
            "grid_template_columns": null,
            "grid_template_rows": null,
            "height": null,
            "justify_content": null,
            "justify_items": null,
            "left": null,
            "margin": null,
            "max_height": null,
            "max_width": null,
            "min_height": null,
            "min_width": null,
            "object_fit": null,
            "object_position": null,
            "order": null,
            "overflow": null,
            "overflow_x": null,
            "overflow_y": null,
            "padding": null,
            "right": null,
            "top": null,
            "visibility": null,
            "width": null
          }
        },
        "c3a260e52224407aba92590816c4b9bb": {
          "model_module": "@jupyter-widgets/controls",
          "model_name": "ProgressStyleModel",
          "model_module_version": "1.5.0",
          "state": {
            "_model_module": "@jupyter-widgets/controls",
            "_model_module_version": "1.5.0",
            "_model_name": "ProgressStyleModel",
            "_view_count": null,
            "_view_module": "@jupyter-widgets/base",
            "_view_module_version": "1.2.0",
            "_view_name": "StyleView",
            "bar_color": null,
            "description_width": ""
          }
        },
        "11aed22c79c14e66a5107b40af9c007e": {
          "model_module": "@jupyter-widgets/base",
          "model_name": "LayoutModel",
          "model_module_version": "1.2.0",
          "state": {
            "_model_module": "@jupyter-widgets/base",
            "_model_module_version": "1.2.0",
            "_model_name": "LayoutModel",
            "_view_count": null,
            "_view_module": "@jupyter-widgets/base",
            "_view_module_version": "1.2.0",
            "_view_name": "LayoutView",
            "align_content": null,
            "align_items": null,
            "align_self": null,
            "border": null,
            "bottom": null,
            "display": null,
            "flex": null,
            "flex_flow": null,
            "grid_area": null,
            "grid_auto_columns": null,
            "grid_auto_flow": null,
            "grid_auto_rows": null,
            "grid_column": null,
            "grid_gap": null,
            "grid_row": null,
            "grid_template_areas": null,
            "grid_template_columns": null,
            "grid_template_rows": null,
            "height": null,
            "justify_content": null,
            "justify_items": null,
            "left": null,
            "margin": null,
            "max_height": null,
            "max_width": null,
            "min_height": null,
            "min_width": null,
            "object_fit": null,
            "object_position": null,
            "order": null,
            "overflow": null,
            "overflow_x": null,
            "overflow_y": null,
            "padding": null,
            "right": null,
            "top": null,
            "visibility": null,
            "width": null
          }
        },
        "28e441ee12f3404698a0bc3a5df7f219": {
          "model_module": "@jupyter-widgets/controls",
          "model_name": "DescriptionStyleModel",
          "model_module_version": "1.5.0",
          "state": {
            "_model_module": "@jupyter-widgets/controls",
            "_model_module_version": "1.5.0",
            "_model_name": "DescriptionStyleModel",
            "_view_count": null,
            "_view_module": "@jupyter-widgets/base",
            "_view_module_version": "1.2.0",
            "_view_name": "StyleView",
            "description_width": ""
          }
        },
        "aea727854fc448069777c4cd469faba2": {
          "model_module": "@jupyter-widgets/controls",
          "model_name": "HBoxModel",
          "model_module_version": "1.5.0",
          "state": {
            "_dom_classes": [],
            "_model_module": "@jupyter-widgets/controls",
            "_model_module_version": "1.5.0",
            "_model_name": "HBoxModel",
            "_view_count": null,
            "_view_module": "@jupyter-widgets/controls",
            "_view_module_version": "1.5.0",
            "_view_name": "HBoxView",
            "box_style": "",
            "children": [
              "IPY_MODEL_eea3642401944e37ad1ba136a724a3c8",
              "IPY_MODEL_a61c9631f98d4bf596af7a4df9d4f001",
              "IPY_MODEL_2326d9ceefca4dc2a0c612d3775e8e0b"
            ],
            "layout": "IPY_MODEL_c5b6e70c07f94932a92d731029259295"
          }
        },
        "eea3642401944e37ad1ba136a724a3c8": {
          "model_module": "@jupyter-widgets/controls",
          "model_name": "HTMLModel",
          "model_module_version": "1.5.0",
          "state": {
            "_dom_classes": [],
            "_model_module": "@jupyter-widgets/controls",
            "_model_module_version": "1.5.0",
            "_model_name": "HTMLModel",
            "_view_count": null,
            "_view_module": "@jupyter-widgets/controls",
            "_view_module_version": "1.5.0",
            "_view_name": "HTMLView",
            "description": "",
            "description_tooltip": null,
            "layout": "IPY_MODEL_6837307587b5478fb0fb8420a6278dbf",
            "placeholder": "​",
            "style": "IPY_MODEL_49f24b5259b94494a45a9eadeae6df1a",
            "value": "model.safetensors: 100%"
          }
        },
        "a61c9631f98d4bf596af7a4df9d4f001": {
          "model_module": "@jupyter-widgets/controls",
          "model_name": "FloatProgressModel",
          "model_module_version": "1.5.0",
          "state": {
            "_dom_classes": [],
            "_model_module": "@jupyter-widgets/controls",
            "_model_module_version": "1.5.0",
            "_model_name": "FloatProgressModel",
            "_view_count": null,
            "_view_module": "@jupyter-widgets/controls",
            "_view_module_version": "1.5.0",
            "_view_name": "ProgressView",
            "bar_style": "success",
            "description": "",
            "description_tooltip": null,
            "layout": "IPY_MODEL_779b67f450c94bc98eef89be6e53caa9",
            "max": 267954768,
            "min": 0,
            "orientation": "horizontal",
            "style": "IPY_MODEL_d3e817a235014af1801fe148f4021a28",
            "value": 267954768
          }
        },
        "2326d9ceefca4dc2a0c612d3775e8e0b": {
          "model_module": "@jupyter-widgets/controls",
          "model_name": "HTMLModel",
          "model_module_version": "1.5.0",
          "state": {
            "_dom_classes": [],
            "_model_module": "@jupyter-widgets/controls",
            "_model_module_version": "1.5.0",
            "_model_name": "HTMLModel",
            "_view_count": null,
            "_view_module": "@jupyter-widgets/controls",
            "_view_module_version": "1.5.0",
            "_view_name": "HTMLView",
            "description": "",
            "description_tooltip": null,
            "layout": "IPY_MODEL_6b6a15b019d0498a845e13c736dc60d5",
            "placeholder": "​",
            "style": "IPY_MODEL_3633012b507140949948b99b08637d49",
            "value": " 268M/268M [00:06&lt;00:00, 17.1MB/s]"
          }
        },
        "c5b6e70c07f94932a92d731029259295": {
          "model_module": "@jupyter-widgets/base",
          "model_name": "LayoutModel",
          "model_module_version": "1.2.0",
          "state": {
            "_model_module": "@jupyter-widgets/base",
            "_model_module_version": "1.2.0",
            "_model_name": "LayoutModel",
            "_view_count": null,
            "_view_module": "@jupyter-widgets/base",
            "_view_module_version": "1.2.0",
            "_view_name": "LayoutView",
            "align_content": null,
            "align_items": null,
            "align_self": null,
            "border": null,
            "bottom": null,
            "display": null,
            "flex": null,
            "flex_flow": null,
            "grid_area": null,
            "grid_auto_columns": null,
            "grid_auto_flow": null,
            "grid_auto_rows": null,
            "grid_column": null,
            "grid_gap": null,
            "grid_row": null,
            "grid_template_areas": null,
            "grid_template_columns": null,
            "grid_template_rows": null,
            "height": null,
            "justify_content": null,
            "justify_items": null,
            "left": null,
            "margin": null,
            "max_height": null,
            "max_width": null,
            "min_height": null,
            "min_width": null,
            "object_fit": null,
            "object_position": null,
            "order": null,
            "overflow": null,
            "overflow_x": null,
            "overflow_y": null,
            "padding": null,
            "right": null,
            "top": null,
            "visibility": null,
            "width": null
          }
        },
        "6837307587b5478fb0fb8420a6278dbf": {
          "model_module": "@jupyter-widgets/base",
          "model_name": "LayoutModel",
          "model_module_version": "1.2.0",
          "state": {
            "_model_module": "@jupyter-widgets/base",
            "_model_module_version": "1.2.0",
            "_model_name": "LayoutModel",
            "_view_count": null,
            "_view_module": "@jupyter-widgets/base",
            "_view_module_version": "1.2.0",
            "_view_name": "LayoutView",
            "align_content": null,
            "align_items": null,
            "align_self": null,
            "border": null,
            "bottom": null,
            "display": null,
            "flex": null,
            "flex_flow": null,
            "grid_area": null,
            "grid_auto_columns": null,
            "grid_auto_flow": null,
            "grid_auto_rows": null,
            "grid_column": null,
            "grid_gap": null,
            "grid_row": null,
            "grid_template_areas": null,
            "grid_template_columns": null,
            "grid_template_rows": null,
            "height": null,
            "justify_content": null,
            "justify_items": null,
            "left": null,
            "margin": null,
            "max_height": null,
            "max_width": null,
            "min_height": null,
            "min_width": null,
            "object_fit": null,
            "object_position": null,
            "order": null,
            "overflow": null,
            "overflow_x": null,
            "overflow_y": null,
            "padding": null,
            "right": null,
            "top": null,
            "visibility": null,
            "width": null
          }
        },
        "49f24b5259b94494a45a9eadeae6df1a": {
          "model_module": "@jupyter-widgets/controls",
          "model_name": "DescriptionStyleModel",
          "model_module_version": "1.5.0",
          "state": {
            "_model_module": "@jupyter-widgets/controls",
            "_model_module_version": "1.5.0",
            "_model_name": "DescriptionStyleModel",
            "_view_count": null,
            "_view_module": "@jupyter-widgets/base",
            "_view_module_version": "1.2.0",
            "_view_name": "StyleView",
            "description_width": ""
          }
        },
        "779b67f450c94bc98eef89be6e53caa9": {
          "model_module": "@jupyter-widgets/base",
          "model_name": "LayoutModel",
          "model_module_version": "1.2.0",
          "state": {
            "_model_module": "@jupyter-widgets/base",
            "_model_module_version": "1.2.0",
            "_model_name": "LayoutModel",
            "_view_count": null,
            "_view_module": "@jupyter-widgets/base",
            "_view_module_version": "1.2.0",
            "_view_name": "LayoutView",
            "align_content": null,
            "align_items": null,
            "align_self": null,
            "border": null,
            "bottom": null,
            "display": null,
            "flex": null,
            "flex_flow": null,
            "grid_area": null,
            "grid_auto_columns": null,
            "grid_auto_flow": null,
            "grid_auto_rows": null,
            "grid_column": null,
            "grid_gap": null,
            "grid_row": null,
            "grid_template_areas": null,
            "grid_template_columns": null,
            "grid_template_rows": null,
            "height": null,
            "justify_content": null,
            "justify_items": null,
            "left": null,
            "margin": null,
            "max_height": null,
            "max_width": null,
            "min_height": null,
            "min_width": null,
            "object_fit": null,
            "object_position": null,
            "order": null,
            "overflow": null,
            "overflow_x": null,
            "overflow_y": null,
            "padding": null,
            "right": null,
            "top": null,
            "visibility": null,
            "width": null
          }
        },
        "d3e817a235014af1801fe148f4021a28": {
          "model_module": "@jupyter-widgets/controls",
          "model_name": "ProgressStyleModel",
          "model_module_version": "1.5.0",
          "state": {
            "_model_module": "@jupyter-widgets/controls",
            "_model_module_version": "1.5.0",
            "_model_name": "ProgressStyleModel",
            "_view_count": null,
            "_view_module": "@jupyter-widgets/base",
            "_view_module_version": "1.2.0",
            "_view_name": "StyleView",
            "bar_color": null,
            "description_width": ""
          }
        },
        "6b6a15b019d0498a845e13c736dc60d5": {
          "model_module": "@jupyter-widgets/base",
          "model_name": "LayoutModel",
          "model_module_version": "1.2.0",
          "state": {
            "_model_module": "@jupyter-widgets/base",
            "_model_module_version": "1.2.0",
            "_model_name": "LayoutModel",
            "_view_count": null,
            "_view_module": "@jupyter-widgets/base",
            "_view_module_version": "1.2.0",
            "_view_name": "LayoutView",
            "align_content": null,
            "align_items": null,
            "align_self": null,
            "border": null,
            "bottom": null,
            "display": null,
            "flex": null,
            "flex_flow": null,
            "grid_area": null,
            "grid_auto_columns": null,
            "grid_auto_flow": null,
            "grid_auto_rows": null,
            "grid_column": null,
            "grid_gap": null,
            "grid_row": null,
            "grid_template_areas": null,
            "grid_template_columns": null,
            "grid_template_rows": null,
            "height": null,
            "justify_content": null,
            "justify_items": null,
            "left": null,
            "margin": null,
            "max_height": null,
            "max_width": null,
            "min_height": null,
            "min_width": null,
            "object_fit": null,
            "object_position": null,
            "order": null,
            "overflow": null,
            "overflow_x": null,
            "overflow_y": null,
            "padding": null,
            "right": null,
            "top": null,
            "visibility": null,
            "width": null
          }
        },
        "3633012b507140949948b99b08637d49": {
          "model_module": "@jupyter-widgets/controls",
          "model_name": "DescriptionStyleModel",
          "model_module_version": "1.5.0",
          "state": {
            "_model_module": "@jupyter-widgets/controls",
            "_model_module_version": "1.5.0",
            "_model_name": "DescriptionStyleModel",
            "_view_count": null,
            "_view_module": "@jupyter-widgets/base",
            "_view_module_version": "1.2.0",
            "_view_name": "StyleView",
            "description_width": ""
          }
        }
      }
    }
  },
  "nbformat": 4,
  "nbformat_minor": 0
}